{
  "metadata": {
    "kernelspec": {
      "language": "python",
      "display_name": "Python 3",
      "name": "python3"
    },
    "language_info": {
      "name": "python",
      "version": "3.7.12",
      "mimetype": "text/x-python",
      "codemirror_mode": {
        "name": "ipython",
        "version": 3
      },
      "pygments_lexer": "ipython3",
      "nbconvert_exporter": "python",
      "file_extension": ".py"
    },
    "colab": {
      "name": "stock-exchange-prediction.ipynb",
      "provenance": []
    }
  },
  "nbformat_minor": 0,
  "nbformat": 4,
  "cells": [
    {
      "cell_type": "code",
      "source": [
        "!pip install fbprophet\n",
        "!pip install opendatasets"
      ],
      "metadata": {
        "_uuid": "8f2839f25d086af736a60e9eeb907d3b93b6e0e5",
        "_cell_guid": "b1076dfc-b9ad-4769-8c92-a6c4dae69d19",
        "execution": {
          "iopub.status.busy": "2022-06-29T14:37:16.53576Z",
          "iopub.execute_input": "2022-06-29T14:37:16.536067Z",
          "iopub.status.idle": "2022-06-29T14:39:08.304052Z",
          "shell.execute_reply.started": "2022-06-29T14:37:16.535986Z",
          "shell.execute_reply": "2022-06-29T14:39:08.303226Z"
        },
        "trusted": true,
        "id": "TR5W_dHrgO0I",
        "outputId": "58a9b3c4-1a15-4805-e457-80693d816dd7",
        "colab": {
          "base_uri": "https://localhost:8080/"
        }
      },
      "execution_count": 1,
      "outputs": [
        {
          "output_type": "stream",
          "name": "stdout",
          "text": [
            "Looking in indexes: https://pypi.org/simple, https://us-python.pkg.dev/colab-wheels/public/simple/\n",
            "Requirement already satisfied: fbprophet in /usr/local/lib/python3.7/dist-packages (0.7.1)\n",
            "Requirement already satisfied: Cython>=0.22 in /usr/local/lib/python3.7/dist-packages (from fbprophet) (0.29.30)\n",
            "Requirement already satisfied: cmdstanpy==0.9.5 in /usr/local/lib/python3.7/dist-packages (from fbprophet) (0.9.5)\n",
            "Requirement already satisfied: pystan>=2.14 in /usr/local/lib/python3.7/dist-packages (from fbprophet) (2.19.1.1)\n",
            "Requirement already satisfied: numpy>=1.15.4 in /usr/local/lib/python3.7/dist-packages (from fbprophet) (1.21.6)\n",
            "Requirement already satisfied: pandas>=1.0.4 in /usr/local/lib/python3.7/dist-packages (from fbprophet) (1.3.5)\n",
            "Requirement already satisfied: matplotlib>=2.0.0 in /usr/local/lib/python3.7/dist-packages (from fbprophet) (3.2.2)\n",
            "Requirement already satisfied: LunarCalendar>=0.0.9 in /usr/local/lib/python3.7/dist-packages (from fbprophet) (0.0.9)\n",
            "Requirement already satisfied: convertdate>=2.1.2 in /usr/local/lib/python3.7/dist-packages (from fbprophet) (2.4.0)\n",
            "Requirement already satisfied: holidays>=0.10.2 in /usr/local/lib/python3.7/dist-packages (from fbprophet) (0.10.5.2)\n",
            "Requirement already satisfied: setuptools-git>=1.2 in /usr/local/lib/python3.7/dist-packages (from fbprophet) (1.2)\n",
            "Requirement already satisfied: python-dateutil>=2.8.0 in /usr/local/lib/python3.7/dist-packages (from fbprophet) (2.8.2)\n",
            "Requirement already satisfied: tqdm>=4.36.1 in /usr/local/lib/python3.7/dist-packages (from fbprophet) (4.64.0)\n",
            "Requirement already satisfied: pymeeus<=1,>=0.3.13 in /usr/local/lib/python3.7/dist-packages (from convertdate>=2.1.2->fbprophet) (0.5.11)\n",
            "Requirement already satisfied: hijri-converter in /usr/local/lib/python3.7/dist-packages (from holidays>=0.10.2->fbprophet) (2.2.4)\n",
            "Requirement already satisfied: korean-lunar-calendar in /usr/local/lib/python3.7/dist-packages (from holidays>=0.10.2->fbprophet) (0.2.1)\n",
            "Requirement already satisfied: six in /usr/local/lib/python3.7/dist-packages (from holidays>=0.10.2->fbprophet) (1.15.0)\n",
            "Requirement already satisfied: pytz in /usr/local/lib/python3.7/dist-packages (from LunarCalendar>=0.0.9->fbprophet) (2022.1)\n",
            "Requirement already satisfied: ephem>=3.7.5.3 in /usr/local/lib/python3.7/dist-packages (from LunarCalendar>=0.0.9->fbprophet) (4.1.3)\n",
            "Requirement already satisfied: kiwisolver>=1.0.1 in /usr/local/lib/python3.7/dist-packages (from matplotlib>=2.0.0->fbprophet) (1.4.3)\n",
            "Requirement already satisfied: cycler>=0.10 in /usr/local/lib/python3.7/dist-packages (from matplotlib>=2.0.0->fbprophet) (0.11.0)\n",
            "Requirement already satisfied: pyparsing!=2.0.4,!=2.1.2,!=2.1.6,>=2.0.1 in /usr/local/lib/python3.7/dist-packages (from matplotlib>=2.0.0->fbprophet) (3.0.9)\n",
            "Requirement already satisfied: typing-extensions in /usr/local/lib/python3.7/dist-packages (from kiwisolver>=1.0.1->matplotlib>=2.0.0->fbprophet) (4.1.1)\n",
            "Looking in indexes: https://pypi.org/simple, https://us-python.pkg.dev/colab-wheels/public/simple/\n",
            "Requirement already satisfied: opendatasets in /usr/local/lib/python3.7/dist-packages (0.1.22)\n",
            "Requirement already satisfied: click in /usr/local/lib/python3.7/dist-packages (from opendatasets) (7.1.2)\n",
            "Requirement already satisfied: tqdm in /usr/local/lib/python3.7/dist-packages (from opendatasets) (4.64.0)\n",
            "Requirement already satisfied: kaggle in /usr/local/lib/python3.7/dist-packages (from opendatasets) (1.5.12)\n",
            "Requirement already satisfied: python-slugify in /usr/local/lib/python3.7/dist-packages (from kaggle->opendatasets) (6.1.2)\n",
            "Requirement already satisfied: python-dateutil in /usr/local/lib/python3.7/dist-packages (from kaggle->opendatasets) (2.8.2)\n",
            "Requirement already satisfied: six>=1.10 in /usr/local/lib/python3.7/dist-packages (from kaggle->opendatasets) (1.15.0)\n",
            "Requirement already satisfied: urllib3 in /usr/local/lib/python3.7/dist-packages (from kaggle->opendatasets) (1.24.3)\n",
            "Requirement already satisfied: certifi in /usr/local/lib/python3.7/dist-packages (from kaggle->opendatasets) (2022.6.15)\n",
            "Requirement already satisfied: requests in /usr/local/lib/python3.7/dist-packages (from kaggle->opendatasets) (2.23.0)\n",
            "Requirement already satisfied: text-unidecode>=1.3 in /usr/local/lib/python3.7/dist-packages (from python-slugify->kaggle->opendatasets) (1.3)\n",
            "Requirement already satisfied: idna<3,>=2.5 in /usr/local/lib/python3.7/dist-packages (from requests->kaggle->opendatasets) (2.10)\n",
            "Requirement already satisfied: chardet<4,>=3.0.2 in /usr/local/lib/python3.7/dist-packages (from requests->kaggle->opendatasets) (3.0.4)\n"
          ]
        }
      ]
    },
    {
      "cell_type": "code",
      "source": [
        "# This Python 3 environment comes with many helpful analytics libraries installed\n",
        "# It is defined by the kaggle/python Docker image: https://github.com/kaggle/docker-python\n",
        "# For example, here's several helpful packages to load\n",
        "\n",
        "#!pip install fbprophet\n",
        "\n",
        "import numpy             as np # linear algebra\n",
        "import pandas            as pd # data processing, CSV file I/O (e.g. pd.read_csv)\n",
        "import matplotlib.pyplot as plt\n",
        "import seaborn           as sns\n",
        "import opendatasets      as od\n",
        "import gc\n",
        "\n",
        "from fbprophet   import Prophet\n",
        "from datetime    import datetime, date \n",
        "from functools   import reduce\n",
        "\n",
        "import os"
      ],
      "metadata": {
        "execution": {
          "iopub.status.busy": "2022-06-29T14:39:08.306925Z",
          "iopub.execute_input": "2022-06-29T14:39:08.307218Z",
          "iopub.status.idle": "2022-06-29T14:39:08.927992Z",
          "shell.execute_reply.started": "2022-06-29T14:39:08.307156Z",
          "shell.execute_reply": "2022-06-29T14:39:08.927287Z"
        },
        "trusted": true,
        "id": "ryFykRUygO0N"
      },
      "execution_count": 2,
      "outputs": []
    },
    {
      "cell_type": "code",
      "source": [
        "url=\"https://www.kaggle.com/competitions/jpx-tokyo-stock-exchange-prediction/data\"\n",
        "od.download(url)"
      ],
      "metadata": {
        "id": "CkG0pDuWhs_R",
        "outputId": "906669dd-4d40-4345-d230-8ffb93233fb8",
        "colab": {
          "base_uri": "https://localhost:8080/"
        }
      },
      "execution_count": 3,
      "outputs": [
        {
          "output_type": "stream",
          "name": "stdout",
          "text": [
            "Skipping, found downloaded files in \"./jpx-tokyo-stock-exchange-prediction\" (use force=True to force download)\n"
          ]
        }
      ]
    },
    {
      "cell_type": "markdown",
      "source": [
        "#  **Load dataset**"
      ],
      "metadata": {
        "id": "w4sJQ2jygO0Q"
      }
    },
    {
      "cell_type": "code",
      "source": [
        "df_stock_prices           = pd.read_csv('jpx-tokyo-stock-exchange-prediction/train_files/stock_prices.csv')\n",
        "\n",
        "df_options                = pd.read_csv('jpx-tokyo-stock-exchange-prediction/train_files/options.csv')\n",
        "\n",
        "df_secondary_stock_prices = pd.read_csv('jpx-tokyo-stock-exchange-prediction/train_files/secondary_stock_prices.csv')\n",
        "\n",
        "df_trades                 = pd.read_csv('jpx-tokyo-stock-exchange-prediction/train_files/trades.csv')\n",
        "\n",
        "df_financials             = pd.read_csv('jpx-tokyo-stock-exchange-prediction/train_files/financials.csv')\n",
        "\n",
        "df_stock_list             = pd.read_csv('jpx-tokyo-stock-exchange-prediction/stock_list.csv')\n"
      ],
      "metadata": {
        "execution": {
          "iopub.status.busy": "2022-06-29T14:39:08.929095Z",
          "iopub.execute_input": "2022-06-29T14:39:08.929453Z",
          "iopub.status.idle": "2022-06-29T14:39:40.555081Z",
          "shell.execute_reply.started": "2022-06-29T14:39:08.929414Z",
          "shell.execute_reply": "2022-06-29T14:39:40.554348Z"
        },
        "trusted": true,
        "id": "LybYBd1rgO0S",
        "outputId": "dfb1babb-d2da-4556-9fde-062f35c4c555",
        "colab": {
          "base_uri": "https://localhost:8080/"
        }
      },
      "execution_count": 4,
      "outputs": [
        {
          "output_type": "stream",
          "name": "stderr",
          "text": [
            "/usr/local/lib/python3.7/dist-packages/IPython/core/interactiveshell.py:2882: DtypeWarning: Columns (7,8,9,10) have mixed types.Specify dtype option on import or set low_memory=False.\n",
            "  exec(code_obj, self.user_global_ns, self.user_ns)\n",
            "/usr/local/lib/python3.7/dist-packages/IPython/core/interactiveshell.py:2882: DtypeWarning: Columns (14,15,16,17,18,19,42,44) have mixed types.Specify dtype option on import or set low_memory=False.\n",
            "  exec(code_obj, self.user_global_ns, self.user_ns)\n"
          ]
        }
      ]
    },
    {
      "cell_type": "code",
      "source": [
        "gc.collect()"
      ],
      "metadata": {
        "execution": {
          "iopub.status.busy": "2022-06-29T14:39:40.557133Z",
          "iopub.execute_input": "2022-06-29T14:39:40.557888Z",
          "iopub.status.idle": "2022-06-29T14:39:40.661977Z",
          "shell.execute_reply.started": "2022-06-29T14:39:40.557848Z",
          "shell.execute_reply": "2022-06-29T14:39:40.660389Z"
        },
        "trusted": true,
        "id": "nSQgs13RgO0U",
        "outputId": "6ada893b-de77-40d6-ce39-f34419c293b6",
        "colab": {
          "base_uri": "https://localhost:8080/"
        }
      },
      "execution_count": 5,
      "outputs": [
        {
          "output_type": "execute_result",
          "data": {
            "text/plain": [
              "50"
            ]
          },
          "metadata": {},
          "execution_count": 5
        }
      ]
    },
    {
      "cell_type": "markdown",
      "source": [
        "# **Function**"
      ],
      "metadata": {
        "id": "Gs4ntOx6gO0W"
      }
    },
    {
      "cell_type": "code",
      "source": [
        "def explore_data (df):\n",
        "    print(\"Missing values: \\n\", df.isnull().sum())\n",
        "    print(\"\\n \\n\")\n",
        "    print(df.describe(include='all'))\n",
        "    print(\"\\n \\n\")\n",
        "    print(df.info())\n",
        "        "
      ],
      "metadata": {
        "execution": {
          "iopub.status.busy": "2022-06-29T14:39:40.665302Z",
          "iopub.execute_input": "2022-06-29T14:39:40.66549Z",
          "iopub.status.idle": "2022-06-29T14:39:40.776549Z",
          "shell.execute_reply.started": "2022-06-29T14:39:40.665466Z",
          "shell.execute_reply": "2022-06-29T14:39:40.775708Z"
        },
        "trusted": true,
        "id": "OvIYhyM1gO0X"
      },
      "execution_count": 6,
      "outputs": []
    },
    {
      "cell_type": "code",
      "source": [
        "def plot_missing_val(df: pd.DataFrame):\n",
        "    if df.isnull().sum().sum() != 0:\n",
        "        na_df = (df.isnull().sum() / len(df)) * 100      \n",
        "        na_df = na_df.drop(na_df[na_df == 0].index).sort_values(ascending=False)\n",
        "        missing_data = pd.DataFrame({'Missing Ratio %' :na_df})\n",
        "        missing_data.plot(kind = \"barh\", figsize=(10,5))\n",
        "        plt.title(\"Percentage of missing values per feature\")\n",
        "        plt.show()\n",
        "    else:\n",
        "        print('No NAs found')"
      ],
      "metadata": {
        "execution": {
          "iopub.status.busy": "2022-06-29T14:39:40.778084Z",
          "iopub.execute_input": "2022-06-29T14:39:40.778369Z",
          "iopub.status.idle": "2022-06-29T14:39:40.789528Z",
          "shell.execute_reply.started": "2022-06-29T14:39:40.778332Z",
          "shell.execute_reply": "2022-06-29T14:39:40.788702Z"
        },
        "trusted": true,
        "id": "UXi6RxTugO0Y"
      },
      "execution_count": 7,
      "outputs": []
    },
    {
      "cell_type": "code",
      "source": [
        "def reduce_mem_usage(df, verbose=True):\n",
        "    numerics = ['int16', 'int32', 'int64', 'float16', 'float32', 'float64']\n",
        "    start_mem = df.memory_usage().sum() / 1024**2\n",
        "    for col in df.columns:\n",
        "        col_type = df[col].dtypes\n",
        "        if col_type in numerics:\n",
        "            c_min = df[col].min()\n",
        "            c_max = df[col].max()\n",
        "            if str(col_type)[:3] == 'int':\n",
        "                if c_min > np.iinfo(np.int8).min and c_max < np.iinfo(np.int8).max:\n",
        "                    df[col] = df[col].astype(np.int8)\n",
        "                elif c_min > np.iinfo(np.int16).min and c_max < np.iinfo(np.int16).max:\n",
        "                    df[col] = df[col].astype(np.int16)\n",
        "                elif c_min > np.iinfo(np.int32).min and c_max < np.iinfo(np.int32).max:\n",
        "                    df[col] = df[col].astype(np.int32)\n",
        "                elif c_min > np.iinfo(np.int64).min and c_max < np.iinfo(np.int64).max:\n",
        "                    df[col] = df[col].astype(np.int64)\n",
        "            else:\n",
        "                if c_min > np.finfo(np.float16).min and c_max < np.finfo(np.float16).max:\n",
        "                    df[col] = df[col].astype(np.float16)\n",
        "                elif c_min > np.finfo(np.float32).min and c_max < np.finfo(np.float32).max:\n",
        "                    df[col] = df[col].astype(np.float32)\n",
        "                else:\n",
        "                    df[col] = df[col].astype(np.float64)\n",
        "\n",
        "    end_mem = df.memory_usage().sum() / 1024**2\n",
        "    print('Memory usage after optimization is: {:.2f} MB'.format(end_mem))\n",
        "    print('Decreased by {:.1f}%'.format(100 * (start_mem - end_mem) / start_mem))\n",
        "\n",
        "    return df"
      ],
      "metadata": {
        "execution": {
          "iopub.status.busy": "2022-06-29T14:39:40.790885Z",
          "iopub.execute_input": "2022-06-29T14:39:40.791225Z",
          "iopub.status.idle": "2022-06-29T14:39:40.804916Z",
          "shell.execute_reply.started": "2022-06-29T14:39:40.791159Z",
          "shell.execute_reply": "2022-06-29T14:39:40.804193Z"
        },
        "trusted": true,
        "id": "A4QR_OAigO0Z"
      },
      "execution_count": 8,
      "outputs": []
    },
    {
      "cell_type": "markdown",
      "source": [
        "# Concatene dataframe"
      ],
      "metadata": {
        "id": "tNlZOpvdgO0b"
      }
    },
    {
      "cell_type": "markdown",
      "source": [
        "* Find shared keys"
      ],
      "metadata": {
        "id": "WwCrFP1kgO0c"
      }
    },
    {
      "cell_type": "code",
      "source": [
        "print(\" Common columns between df_stock_prices and df_options -->\", np.intersect1d(df_stock_prices.columns, df_options.columns) )\n",
        "\n",
        "print(\"\\n Common columns between df_stock_prices and df_trades -->\", np.intersect1d(df_stock_prices.columns, df_trades.columns) )\n",
        "\n",
        "print(\" \\n Common columns between df_stock_prices and df_secondary_stock_prices -->\", np.intersect1d(df_stock_prices.columns, df_secondary_stock_prices.columns) )\n",
        "\n",
        "print(\"\\n Common columns between df_stock_prices and df_financials -->\", np.intersect1d(df_stock_prices.columns, df_financials.columns) )\n",
        "\n",
        "print(\"\\n Common columns between df_stock_prices and df_stock_list -->\", np.intersect1d(df_stock_prices.columns, df_stock_list.columns) )\n",
        "      "
      ],
      "metadata": {
        "execution": {
          "iopub.status.busy": "2022-06-29T14:39:40.806327Z",
          "iopub.execute_input": "2022-06-29T14:39:40.807224Z",
          "iopub.status.idle": "2022-06-29T14:39:40.824206Z",
          "shell.execute_reply.started": "2022-06-29T14:39:40.807188Z",
          "shell.execute_reply": "2022-06-29T14:39:40.823424Z"
        },
        "trusted": true,
        "id": "QLtVpOeXgO0d",
        "outputId": "bec0aad9-ab0a-450f-870a-e0a6c0bce3f2",
        "colab": {
          "base_uri": "https://localhost:8080/"
        }
      },
      "execution_count": 9,
      "outputs": [
        {
          "output_type": "stream",
          "name": "stdout",
          "text": [
            " Common columns between df_stock_prices and df_options --> ['Date']\n",
            "\n",
            " Common columns between df_stock_prices and df_trades --> ['Date']\n",
            " \n",
            " Common columns between df_stock_prices and df_secondary_stock_prices --> ['AdjustmentFactor' 'Close' 'Date' 'ExpectedDividend' 'High' 'Low' 'Open'\n",
            " 'RowId' 'SecuritiesCode' 'SupervisionFlag' 'Target' 'Volume']\n",
            "\n",
            " Common columns between df_stock_prices and df_financials --> ['Date' 'SecuritiesCode']\n",
            "\n",
            " Common columns between df_stock_prices and df_stock_list --> ['Close' 'SecuritiesCode']\n"
          ]
        }
      ]
    },
    {
      "cell_type": "code",
      "source": [
        "list_size_dfs = [df_stock_prices.shape[0], df_options.shape[0], df_secondary_stock_prices.shape[0], df_trades.shape[0], df_financials.shape[0], df_stock_list.shape[0]]\n",
        "name_dfs      = [\"df_stock_prices\", \"df_options\", \"df_secondary_stock_prices\", \"df_trades\", \"df_financials\", \"df_stock_list\"]\n",
        "\n",
        "fig = plt.figure(figsize = (10, 5))\n",
        "# creating the bar plot\n",
        "plt.bar(name_dfs,list_size_dfs, color ='maroon', width = 0.4)\n",
        "plt.xlabel('Dataframe', fontsize='15')\n",
        "plt.ylabel('Shape of dataframe', fontsize='15')\n",
        "plt.xticks(rotation=45)\n",
        "plt.show()"
      ],
      "metadata": {
        "execution": {
          "iopub.status.busy": "2022-06-29T14:39:40.825509Z",
          "iopub.execute_input": "2022-06-29T14:39:40.825966Z",
          "iopub.status.idle": "2022-06-29T14:39:41.04357Z",
          "shell.execute_reply.started": "2022-06-29T14:39:40.825928Z",
          "shell.execute_reply": "2022-06-29T14:39:41.042863Z"
        },
        "trusted": true,
        "id": "b-QVlFivgO0e",
        "outputId": "805e3f81-9bc6-4a89-d9b5-cca4e33a9160",
        "colab": {
          "base_uri": "https://localhost:8080/",
          "height": 442
        }
      },
      "execution_count": 10,
      "outputs": [
        {
          "output_type": "display_data",
          "data": {
            "text/plain": [
              "<Figure size 720x360 with 1 Axes>"
            ],
            "image/png": "[encoded data removed]"
          },
          "metadata": {
            "needs_background": "light"
          }
        }
      ]
    },
    {
      "cell_type": "code",
      "source": [
        "df_stock_new = df_stock_prices.append(df_secondary_stock_prices)"
      ],
      "metadata": {
        "execution": {
          "iopub.status.busy": "2022-06-29T14:39:41.046666Z",
          "iopub.execute_input": "2022-06-29T14:39:41.046869Z",
          "iopub.status.idle": "2022-06-29T14:39:41.297921Z",
          "shell.execute_reply.started": "2022-06-29T14:39:41.046844Z",
          "shell.execute_reply": "2022-06-29T14:39:41.297116Z"
        },
        "trusted": true,
        "id": "8dssDs9XgO0f"
      },
      "execution_count": 11,
      "outputs": []
    },
    {
      "cell_type": "code",
      "source": [
        "df_stock_new = reduce_mem_usage(df_stock_new)"
      ],
      "metadata": {
        "execution": {
          "iopub.status.busy": "2022-06-29T14:39:41.301399Z",
          "iopub.execute_input": "2022-06-29T14:39:41.301598Z",
          "iopub.status.idle": "2022-06-29T14:39:41.84649Z",
          "shell.execute_reply.started": "2022-06-29T14:39:41.301574Z",
          "shell.execute_reply": "2022-06-29T14:39:41.844929Z"
        },
        "trusted": true,
        "id": "0jViIRljgO0f",
        "outputId": "53559d0c-c4e2-44ae-f284-43c1e575413c",
        "colab": {
          "base_uri": "https://localhost:8080/"
        }
      },
      "execution_count": 12,
      "outputs": [
        {
          "output_type": "stream",
          "name": "stdout",
          "text": [
            "Memory usage after optimization is: 238.42 MB\n",
            "Decreased by 45.4%\n"
          ]
        }
      ]
    },
    {
      "cell_type": "code",
      "source": [
        "gc.collect()"
      ],
      "metadata": {
        "execution": {
          "iopub.status.busy": "2022-06-29T14:39:41.84787Z",
          "iopub.execute_input": "2022-06-29T14:39:41.848131Z",
          "iopub.status.idle": "2022-06-29T14:39:41.955953Z",
          "shell.execute_reply.started": "2022-06-29T14:39:41.848097Z",
          "shell.execute_reply": "2022-06-29T14:39:41.955238Z"
        },
        "trusted": true,
        "id": "k3osAJ6DgO0f",
        "outputId": "08294424-0f20-4a4c-e0fc-727372d9f099",
        "colab": {
          "base_uri": "https://localhost:8080/"
        }
      },
      "execution_count": 13,
      "outputs": [
        {
          "output_type": "execute_result",
          "data": {
            "text/plain": [
              "150"
            ]
          },
          "metadata": {},
          "execution_count": 13
        }
      ]
    },
    {
      "cell_type": "markdown",
      "source": [
        "# **Data exploration**"
      ],
      "metadata": {
        "id": "CpXaBGTegO0g"
      }
    },
    {
      "cell_type": "code",
      "source": [
        "df_stock_new.head()"
      ],
      "metadata": {
        "execution": {
          "iopub.status.busy": "2022-06-29T14:39:41.957106Z",
          "iopub.execute_input": "2022-06-29T14:39:41.957806Z",
          "iopub.status.idle": "2022-06-29T14:39:41.981801Z",
          "shell.execute_reply.started": "2022-06-29T14:39:41.957766Z",
          "shell.execute_reply": "2022-06-29T14:39:41.981059Z"
        },
        "trusted": true,
        "id": "--7mJFXSgO0g",
        "outputId": "e717d994-420d-4084-e2b7-c218f0617089",
        "colab": {
          "base_uri": "https://localhost:8080/",
          "height": 206
        }
      },
      "execution_count": 14,
      "outputs": [
        {
          "output_type": "execute_result",
          "data": {
            "text/plain": [
              "           RowId        Date  SecuritiesCode    Open    High     Low   Close  \\\n",
              "0  20170104_1301  2017-01-04            1301  2734.0  2755.0  2730.0  2742.0   \n",
              "1  20170104_1332  2017-01-04            1332   568.0   576.0   563.0   571.0   \n",
              "2  20170104_1333  2017-01-04            1333  3150.0  3210.0  3140.0  3210.0   \n",
              "3  20170104_1376  2017-01-04            1376  1510.0  1550.0  1510.0  1550.0   \n",
              "4  20170104_1377  2017-01-04            1377  3270.0  3350.0  3270.0  3330.0   \n",
              "\n",
              "    Volume  AdjustmentFactor  ExpectedDividend  SupervisionFlag    Target  \n",
              "0    31400               1.0               NaN            False  0.000731  \n",
              "1  2798500               1.0               NaN            False  0.012321  \n",
              "2   270800               1.0               NaN            False  0.006153  \n",
              "3    11300               1.0               NaN            False  0.011055  \n",
              "4   150800               1.0               NaN            False  0.003025  "
            ],
            "text/html": [
              "\n",
              "  <div id=\"df-f1a7daa9-1f2d-4028-95f5-7ea0eba424f6\">\n",
              "    <div class=\"colab-df-container\">\n",
              "      <div>\n",
              "<style scoped>\n",
              "    .dataframe tbody tr th:only-of-type {\n",
              "        vertical-align: middle;\n",
              "    }\n",
              "\n",
              "    .dataframe tbody tr th {\n",
              "        vertical-align: top;\n",
              "    }\n",
              "\n",
              "    .dataframe thead th {\n",
              "        text-align: right;\n",
              "    }\n",
              "</style>\n",
              "<table border=\"1\" class=\"dataframe\">\n",
              "  <thead>\n",
              "    <tr style=\"text-align: right;\">\n",
              "      <th></th>\n",
              "      <th>RowId</th>\n",
              "      <th>Date</th>\n",
              "      <th>SecuritiesCode</th>\n",
              "      <th>Open</th>\n",
              "      <th>High</th>\n",
              "      <th>Low</th>\n",
              "      <th>Close</th>\n",
              "      <th>Volume</th>\n",
              "      <th>AdjustmentFactor</th>\n",
              "      <th>ExpectedDividend</th>\n",
              "      <th>SupervisionFlag</th>\n",
              "      <th>Target</th>\n",
              "    </tr>\n",
              "  </thead>\n",
              "  <tbody>\n",
              "    <tr>\n",
              "      <th>0</th>\n",
              "      <td>20170104_1301</td>\n",
              "      <td>2017-01-04</td>\n",
              "      <td>1301</td>\n",
              "      <td>2734.0</td>\n",
              "      <td>2755.0</td>\n",
              "      <td>2730.0</td>\n",
              "      <td>2742.0</td>\n",
              "      <td>31400</td>\n",
              "      <td>1.0</td>\n",
              "      <td>NaN</td>\n",
              "      <td>False</td>\n",
              "      <td>0.000731</td>\n",
              "    </tr>\n",
              "    <tr>\n",
              "      <th>1</th>\n",
              "      <td>20170104_1332</td>\n",
              "      <td>2017-01-04</td>\n",
              "      <td>1332</td>\n",
              "      <td>568.0</td>\n",
              "      <td>576.0</td>\n",
              "      <td>563.0</td>\n",
              "      <td>571.0</td>\n",
              "      <td>2798500</td>\n",
              "      <td>1.0</td>\n",
              "      <td>NaN</td>\n",
              "      <td>False</td>\n",
              "      <td>0.012321</td>\n",
              "    </tr>\n",
              "    <tr>\n",
              "      <th>2</th>\n",
              "      <td>20170104_1333</td>\n",
              "      <td>2017-01-04</td>\n",
              "      <td>1333</td>\n",
              "      <td>3150.0</td>\n",
              "      <td>3210.0</td>\n",
              "      <td>3140.0</td>\n",
              "      <td>3210.0</td>\n",
              "      <td>270800</td>\n",
              "      <td>1.0</td>\n",
              "      <td>NaN</td>\n",
              "      <td>False</td>\n",
              "      <td>0.006153</td>\n",
              "    </tr>\n",
              "    <tr>\n",
              "      <th>3</th>\n",
              "      <td>20170104_1376</td>\n",
              "      <td>2017-01-04</td>\n",
              "      <td>1376</td>\n",
              "      <td>1510.0</td>\n",
              "      <td>1550.0</td>\n",
              "      <td>1510.0</td>\n",
              "      <td>1550.0</td>\n",
              "      <td>11300</td>\n",
              "      <td>1.0</td>\n",
              "      <td>NaN</td>\n",
              "      <td>False</td>\n",
              "      <td>0.011055</td>\n",
              "    </tr>\n",
              "    <tr>\n",
              "      <th>4</th>\n",
              "      <td>20170104_1377</td>\n",
              "      <td>2017-01-04</td>\n",
              "      <td>1377</td>\n",
              "      <td>3270.0</td>\n",
              "      <td>3350.0</td>\n",
              "      <td>3270.0</td>\n",
              "      <td>3330.0</td>\n",
              "      <td>150800</td>\n",
              "      <td>1.0</td>\n",
              "      <td>NaN</td>\n",
              "      <td>False</td>\n",
              "      <td>0.003025</td>\n",
              "    </tr>\n",
              "  </tbody>\n",
              "</table>\n",
              "</div>\n",
              "      <button class=\"colab-df-convert\" onclick=\"convertToInteractive('df-f1a7daa9-1f2d-4028-95f5-7ea0eba424f6')\"\n",
              "              title=\"Convert this dataframe to an interactive table.\"\n",
              "              style=\"display:none;\">\n",
              "        \n",
              "  <svg xmlns=\"http://www.w3.org/2000/svg\" height=\"24px\"viewBox=\"0 0 24 24\"\n",
              "       width=\"24px\">\n",
              "    <path d=\"M0 0h24v24H0V0z\" fill=\"none\"/>\n",
              "    <path d=\"M18.56 5.44l.94 2.06.94-2.06 2.06-.94-2.06-.94-.94-2.06-.94 2.06-2.06.94zm-11 1L8.5 8.5l.94-2.06 2.06-.94-2.06-.94L8.5 2.5l-.94 2.06-2.06.94zm10 10l.94 2.06.94-2.06 2.06-.94-2.06-.94-.94-2.06-.94 2.06-2.06.94z\"/><path d=\"M17.41 7.96l-1.37-1.37c-.4-.4-.92-.59-1.43-.59-.52 0-1.04.2-1.43.59L10.3 9.45l-7.72 7.72c-.78.78-.78 2.05 0 2.83L4 21.41c.39.39.9.59 1.41.59.51 0 1.02-.2 1.41-.59l7.78-7.78 2.81-2.81c.8-.78.8-2.07 0-2.86zM5.41 20L4 18.59l7.72-7.72 1.47 1.35L5.41 20z\"/>\n",
              "  </svg>\n",
              "      </button>\n",
              "      \n",
              "  <style>\n",
              "    .colab-df-container {\n",
              "      display:flex;\n",
              "      flex-wrap:wrap;\n",
              "      gap: 12px;\n",
              "    }\n",
              "\n",
              "    .colab-df-convert {\n",
              "      background-color: #E8F0FE;\n",
              "      border: none;\n",
              "      border-radius: 50%;\n",
              "      cursor: pointer;\n",
              "      display: none;\n",
              "      fill: #1967D2;\n",
              "      height: 32px;\n",
              "      padding: 0 0 0 0;\n",
              "      width: 32px;\n",
              "    }\n",
              "\n",
              "    .colab-df-convert:hover {\n",
              "      background-color: #E2EBFA;\n",
              "      box-shadow: 0px 1px 2px rgba(60, 64, 67, 0.3), 0px 1px 3px 1px rgba(60, 64, 67, 0.15);\n",
              "      fill: #174EA6;\n",
              "    }\n",
              "\n",
              "    [theme=dark] .colab-df-convert {\n",
              "      background-color: #3B4455;\n",
              "      fill: #D2E3FC;\n",
              "    }\n",
              "\n",
              "    [theme=dark] .colab-df-convert:hover {\n",
              "      background-color: #434B5C;\n",
              "      box-shadow: 0px 1px 3px 1px rgba(0, 0, 0, 0.15);\n",
              "      filter: drop-shadow(0px 1px 2px rgba(0, 0, 0, 0.3));\n",
              "      fill: #FFFFFF;\n",
              "    }\n",
              "  </style>\n",
              "\n",
              "      <script>\n",
              "        const buttonEl =\n",
              "          document.querySelector('#df-f1a7daa9-1f2d-4028-95f5-7ea0eba424f6 button.colab-df-convert');\n",
              "        buttonEl.style.display =\n",
              "          google.colab.kernel.accessAllowed ? 'block' : 'none';\n",
              "\n",
              "        async function convertToInteractive(key) {\n",
              "          const element = document.querySelector('#df-f1a7daa9-1f2d-4028-95f5-7ea0eba424f6');\n",
              "          const dataTable =\n",
              "            await google.colab.kernel.invokeFunction('convertToInteractive',\n",
              "                                                     [key], {});\n",
              "          if (!dataTable) return;\n",
              "\n",
              "          const docLinkHtml = 'Like what you see? Visit the ' +\n",
              "            '<a target=\"_blank\" href=https://colab.research.google.com/notebooks/data_table.ipynb>data table notebook</a>'\n",
              "            + ' to learn more about interactive tables.';\n",
              "          element.innerHTML = '';\n",
              "          dataTable['output_type'] = 'display_data';\n",
              "          await google.colab.output.renderOutput(dataTable, element);\n",
              "          const docLink = document.createElement('div');\n",
              "          docLink.innerHTML = docLinkHtml;\n",
              "          element.appendChild(docLink);\n",
              "        }\n",
              "      </script>\n",
              "    </div>\n",
              "  </div>\n",
              "  "
            ]
          },
          "metadata": {},
          "execution_count": 14
        }
      ]
    },
    {
      "cell_type": "code",
      "source": [
        "df_stock_new.describe(include='all')"
      ],
      "metadata": {
        "execution": {
          "iopub.status.busy": "2022-06-29T14:39:41.983018Z",
          "iopub.execute_input": "2022-06-29T14:39:41.983473Z",
          "iopub.status.idle": "2022-06-29T14:39:51.372946Z",
          "shell.execute_reply.started": "2022-06-29T14:39:41.983434Z",
          "shell.execute_reply": "2022-06-29T14:39:51.372227Z"
        },
        "trusted": true,
        "id": "e38dCS2fgO0h",
        "outputId": "db37b886-fd34-4da4-9eb7-c3b859e9112a",
        "colab": {
          "base_uri": "https://localhost:8080/",
          "height": 458
        }
      },
      "execution_count": 15,
      "outputs": [
        {
          "output_type": "execute_result",
          "data": {
            "text/plain": [
              "                RowId        Date  SecuritiesCode          Open          High  \\\n",
              "count         4717106     4717106    4.717106e+06  4.617747e+06  4.617747e+06   \n",
              "unique        4717106        1202             NaN           NaN           NaN   \n",
              "top     20170104_1301  2021-12-02             NaN           NaN           NaN   \n",
              "freq                1        4090             NaN           NaN           NaN   \n",
              "mean              NaN         NaN    5.557378e+03  5.899876e+03  5.955174e+03   \n",
              "std               NaN         NaN    2.528957e+03  3.552297e+04  3.581771e+04   \n",
              "min               NaN         NaN    1.301000e+03  1.000000e+00  1.000000e+00   \n",
              "25%               NaN         NaN    3.390000e+03  7.130000e+02  7.210000e+02   \n",
              "50%               NaN         NaN    5.821000e+03  1.395000e+03  1.411000e+03   \n",
              "75%               NaN         NaN    7.705000e+03  2.586000e+03  2.615000e+03   \n",
              "max               NaN         NaN    2.593500e+04  9.060000e+05  9.140000e+05   \n",
              "\n",
              "                 Low         Close        Volume  AdjustmentFactor  \\\n",
              "count   4.617747e+06  4.617747e+06  4.717106e+06      4.717106e+06   \n",
              "unique           NaN           NaN           NaN               NaN   \n",
              "top              NaN           NaN           NaN               NaN   \n",
              "freq             NaN           NaN           NaN               NaN   \n",
              "mean    5.842731e+03  5.898682e+03  4.616900e+05               NaN   \n",
              "std     3.522635e+04  3.552194e+04  3.353114e+06      0.000000e+00   \n",
              "min     1.000000e+00  1.000000e+00  0.000000e+00      9.997559e-02   \n",
              "25%     7.030000e+02  7.120000e+02  6.000000e+03      1.000000e+00   \n",
              "50%     1.376000e+03  1.394000e+03  3.660000e+04      1.000000e+00   \n",
              "75%     2.552000e+03  2.584000e+03  1.794000e+05      1.000000e+00   \n",
              "max     9.050000e+05  9.070000e+05  6.436540e+08      2.000000e+02   \n",
              "\n",
              "        ExpectedDividend SupervisionFlag        Target  \n",
              "count            37323.0         4717106  4.716150e+06  \n",
              "unique               NaN               2           NaN  \n",
              "top                  NaN           False           NaN  \n",
              "freq                 NaN         4702511           NaN  \n",
              "mean                 inf             NaN  0.000000e+00  \n",
              "std                  inf             NaN  0.000000e+00  \n",
              "min                  0.0             NaN -9.213867e-01  \n",
              "25%                  0.0             NaN -9.757996e-03  \n",
              "50%                 10.0             NaN  0.000000e+00  \n",
              "75%                 25.0             NaN  9.361267e-03  \n",
              "max              15184.0             NaN  6.066406e+00  "
            ],
            "text/html": [
              "\n",
              "  <div id=\"df-edfc930f-46db-42e7-afd3-fdda4eb0f87d\">\n",
              "    <div class=\"colab-df-container\">\n",
              "      <div>\n",
              "<style scoped>\n",
              "    .dataframe tbody tr th:only-of-type {\n",
              "        vertical-align: middle;\n",
              "    }\n",
              "\n",
              "    .dataframe tbody tr th {\n",
              "        vertical-align: top;\n",
              "    }\n",
              "\n",
              "    .dataframe thead th {\n",
              "        text-align: right;\n",
              "    }\n",
              "</style>\n",
              "<table border=\"1\" class=\"dataframe\">\n",
              "  <thead>\n",
              "    <tr style=\"text-align: right;\">\n",
              "      <th></th>\n",
              "      <th>RowId</th>\n",
              "      <th>Date</th>\n",
              "      <th>SecuritiesCode</th>\n",
              "      <th>Open</th>\n",
              "      <th>High</th>\n",
              "      <th>Low</th>\n",
              "      <th>Close</th>\n",
              "      <th>Volume</th>\n",
              "      <th>AdjustmentFactor</th>\n",
              "      <th>ExpectedDividend</th>\n",
              "      <th>SupervisionFlag</th>\n",
              "      <th>Target</th>\n",
              "    </tr>\n",
              "  </thead>\n",
              "  <tbody>\n",
              "    <tr>\n",
              "      <th>count</th>\n",
              "      <td>4717106</td>\n",
              "      <td>4717106</td>\n",
              "      <td>4.717106e+06</td>\n",
              "      <td>4.617747e+06</td>\n",
              "      <td>4.617747e+06</td>\n",
              "      <td>4.617747e+06</td>\n",
              "      <td>4.617747e+06</td>\n",
              "      <td>4.717106e+06</td>\n",
              "      <td>4.717106e+06</td>\n",
              "      <td>37323.0</td>\n",
              "      <td>4717106</td>\n",
              "      <td>4.716150e+06</td>\n",
              "    </tr>\n",
              "    <tr>\n",
              "      <th>unique</th>\n",
              "      <td>4717106</td>\n",
              "      <td>1202</td>\n",
              "      <td>NaN</td>\n",
              "      <td>NaN</td>\n",
              "      <td>NaN</td>\n",
              "      <td>NaN</td>\n",
              "      <td>NaN</td>\n",
              "      <td>NaN</td>\n",
              "      <td>NaN</td>\n",
              "      <td>NaN</td>\n",
              "      <td>2</td>\n",
              "      <td>NaN</td>\n",
              "    </tr>\n",
              "    <tr>\n",
              "      <th>top</th>\n",
              "      <td>20170104_1301</td>\n",
              "      <td>2021-12-02</td>\n",
              "      <td>NaN</td>\n",
              "      <td>NaN</td>\n",
              "      <td>NaN</td>\n",
              "      <td>NaN</td>\n",
              "      <td>NaN</td>\n",
              "      <td>NaN</td>\n",
              "      <td>NaN</td>\n",
              "      <td>NaN</td>\n",
              "      <td>False</td>\n",
              "      <td>NaN</td>\n",
              "    </tr>\n",
              "    <tr>\n",
              "      <th>freq</th>\n",
              "      <td>1</td>\n",
              "      <td>4090</td>\n",
              "      <td>NaN</td>\n",
              "      <td>NaN</td>\n",
              "      <td>NaN</td>\n",
              "      <td>NaN</td>\n",
              "      <td>NaN</td>\n",
              "      <td>NaN</td>\n",
              "      <td>NaN</td>\n",
              "      <td>NaN</td>\n",
              "      <td>4702511</td>\n",
              "      <td>NaN</td>\n",
              "    </tr>\n",
              "    <tr>\n",
              "      <th>mean</th>\n",
              "      <td>NaN</td>\n",
              "      <td>NaN</td>\n",
              "      <td>5.557378e+03</td>\n",
              "      <td>5.899876e+03</td>\n",
              "      <td>5.955174e+03</td>\n",
              "      <td>5.842731e+03</td>\n",
              "      <td>5.898682e+03</td>\n",
              "      <td>4.616900e+05</td>\n",
              "      <td>NaN</td>\n",
              "      <td>inf</td>\n",
              "      <td>NaN</td>\n",
              "      <td>0.000000e+00</td>\n",
              "    </tr>\n",
              "    <tr>\n",
              "      <th>std</th>\n",
              "      <td>NaN</td>\n",
              "      <td>NaN</td>\n",
              "      <td>2.528957e+03</td>\n",
              "      <td>3.552297e+04</td>\n",
              "      <td>3.581771e+04</td>\n",
              "      <td>3.522635e+04</td>\n",
              "      <td>3.552194e+04</td>\n",
              "      <td>3.353114e+06</td>\n",
              "      <td>0.000000e+00</td>\n",
              "      <td>inf</td>\n",
              "      <td>NaN</td>\n",
              "      <td>0.000000e+00</td>\n",
              "    </tr>\n",
              "    <tr>\n",
              "      <th>min</th>\n",
              "      <td>NaN</td>\n",
              "      <td>NaN</td>\n",
              "      <td>1.301000e+03</td>\n",
              "      <td>1.000000e+00</td>\n",
              "      <td>1.000000e+00</td>\n",
              "      <td>1.000000e+00</td>\n",
              "      <td>1.000000e+00</td>\n",
              "      <td>0.000000e+00</td>\n",
              "      <td>9.997559e-02</td>\n",
              "      <td>0.0</td>\n",
              "      <td>NaN</td>\n",
              "      <td>-9.213867e-01</td>\n",
              "    </tr>\n",
              "    <tr>\n",
              "      <th>25%</th>\n",
              "      <td>NaN</td>\n",
              "      <td>NaN</td>\n",
              "      <td>3.390000e+03</td>\n",
              "      <td>7.130000e+02</td>\n",
              "      <td>7.210000e+02</td>\n",
              "      <td>7.030000e+02</td>\n",
              "      <td>7.120000e+02</td>\n",
              "      <td>6.000000e+03</td>\n",
              "      <td>1.000000e+00</td>\n",
              "      <td>0.0</td>\n",
              "      <td>NaN</td>\n",
              "      <td>-9.757996e-03</td>\n",
              "    </tr>\n",
              "    <tr>\n",
              "      <th>50%</th>\n",
              "      <td>NaN</td>\n",
              "      <td>NaN</td>\n",
              "      <td>5.821000e+03</td>\n",
              "      <td>1.395000e+03</td>\n",
              "      <td>1.411000e+03</td>\n",
              "      <td>1.376000e+03</td>\n",
              "      <td>1.394000e+03</td>\n",
              "      <td>3.660000e+04</td>\n",
              "      <td>1.000000e+00</td>\n",
              "      <td>10.0</td>\n",
              "      <td>NaN</td>\n",
              "      <td>0.000000e+00</td>\n",
              "    </tr>\n",
              "    <tr>\n",
              "      <th>75%</th>\n",
              "      <td>NaN</td>\n",
              "      <td>NaN</td>\n",
              "      <td>7.705000e+03</td>\n",
              "      <td>2.586000e+03</td>\n",
              "      <td>2.615000e+03</td>\n",
              "      <td>2.552000e+03</td>\n",
              "      <td>2.584000e+03</td>\n",
              "      <td>1.794000e+05</td>\n",
              "      <td>1.000000e+00</td>\n",
              "      <td>25.0</td>\n",
              "      <td>NaN</td>\n",
              "      <td>9.361267e-03</td>\n",
              "    </tr>\n",
              "    <tr>\n",
              "      <th>max</th>\n",
              "      <td>NaN</td>\n",
              "      <td>NaN</td>\n",
              "      <td>2.593500e+04</td>\n",
              "      <td>9.060000e+05</td>\n",
              "      <td>9.140000e+05</td>\n",
              "      <td>9.050000e+05</td>\n",
              "      <td>9.070000e+05</td>\n",
              "      <td>6.436540e+08</td>\n",
              "      <td>2.000000e+02</td>\n",
              "      <td>15184.0</td>\n",
              "      <td>NaN</td>\n",
              "      <td>6.066406e+00</td>\n",
              "    </tr>\n",
              "  </tbody>\n",
              "</table>\n",
              "</div>\n",
              "      <button class=\"colab-df-convert\" onclick=\"convertToInteractive('df-edfc930f-46db-42e7-afd3-fdda4eb0f87d')\"\n",
              "              title=\"Convert this dataframe to an interactive table.\"\n",
              "              style=\"display:none;\">\n",
              "        \n",
              "  <svg xmlns=\"http://www.w3.org/2000/svg\" height=\"24px\"viewBox=\"0 0 24 24\"\n",
              "       width=\"24px\">\n",
              "    <path d=\"M0 0h24v24H0V0z\" fill=\"none\"/>\n",
              "    <path d=\"M18.56 5.44l.94 2.06.94-2.06 2.06-.94-2.06-.94-.94-2.06-.94 2.06-2.06.94zm-11 1L8.5 8.5l.94-2.06 2.06-.94-2.06-.94L8.5 2.5l-.94 2.06-2.06.94zm10 10l.94 2.06.94-2.06 2.06-.94-2.06-.94-.94-2.06-.94 2.06-2.06.94z\"/><path d=\"M17.41 7.96l-1.37-1.37c-.4-.4-.92-.59-1.43-.59-.52 0-1.04.2-1.43.59L10.3 9.45l-7.72 7.72c-.78.78-.78 2.05 0 2.83L4 21.41c.39.39.9.59 1.41.59.51 0 1.02-.2 1.41-.59l7.78-7.78 2.81-2.81c.8-.78.8-2.07 0-2.86zM5.41 20L4 18.59l7.72-7.72 1.47 1.35L5.41 20z\"/>\n",
              "  </svg>\n",
              "      </button>\n",
              "      \n",
              "  <style>\n",
              "    .colab-df-container {\n",
              "      display:flex;\n",
              "      flex-wrap:wrap;\n",
              "      gap: 12px;\n",
              "    }\n",
              "\n",
              "    .colab-df-convert {\n",
              "      background-color: #E8F0FE;\n",
              "      border: none;\n",
              "      border-radius: 50%;\n",
              "      cursor: pointer;\n",
              "      display: none;\n",
              "      fill: #1967D2;\n",
              "      height: 32px;\n",
              "      padding: 0 0 0 0;\n",
              "      width: 32px;\n",
              "    }\n",
              "\n",
              "    .colab-df-convert:hover {\n",
              "      background-color: #E2EBFA;\n",
              "      box-shadow: 0px 1px 2px rgba(60, 64, 67, 0.3), 0px 1px 3px 1px rgba(60, 64, 67, 0.15);\n",
              "      fill: #174EA6;\n",
              "    }\n",
              "\n",
              "    [theme=dark] .colab-df-convert {\n",
              "      background-color: #3B4455;\n",
              "      fill: #D2E3FC;\n",
              "    }\n",
              "\n",
              "    [theme=dark] .colab-df-convert:hover {\n",
              "      background-color: #434B5C;\n",
              "      box-shadow: 0px 1px 3px 1px rgba(0, 0, 0, 0.15);\n",
              "      filter: drop-shadow(0px 1px 2px rgba(0, 0, 0, 0.3));\n",
              "      fill: #FFFFFF;\n",
              "    }\n",
              "  </style>\n",
              "\n",
              "      <script>\n",
              "        const buttonEl =\n",
              "          document.querySelector('#df-edfc930f-46db-42e7-afd3-fdda4eb0f87d button.colab-df-convert');\n",
              "        buttonEl.style.display =\n",
              "          google.colab.kernel.accessAllowed ? 'block' : 'none';\n",
              "\n",
              "        async function convertToInteractive(key) {\n",
              "          const element = document.querySelector('#df-edfc930f-46db-42e7-afd3-fdda4eb0f87d');\n",
              "          const dataTable =\n",
              "            await google.colab.kernel.invokeFunction('convertToInteractive',\n",
              "                                                     [key], {});\n",
              "          if (!dataTable) return;\n",
              "\n",
              "          const docLinkHtml = 'Like what you see? Visit the ' +\n",
              "            '<a target=\"_blank\" href=https://colab.research.google.com/notebooks/data_table.ipynb>data table notebook</a>'\n",
              "            + ' to learn more about interactive tables.';\n",
              "          element.innerHTML = '';\n",
              "          dataTable['output_type'] = 'display_data';\n",
              "          await google.colab.output.renderOutput(dataTable, element);\n",
              "          const docLink = document.createElement('div');\n",
              "          docLink.innerHTML = docLinkHtml;\n",
              "          element.appendChild(docLink);\n",
              "        }\n",
              "      </script>\n",
              "    </div>\n",
              "  </div>\n",
              "  "
            ]
          },
          "metadata": {},
          "execution_count": 15
        }
      ]
    },
    {
      "cell_type": "code",
      "source": [
        "df_stock_new.info()"
      ],
      "metadata": {
        "execution": {
          "iopub.status.busy": "2022-06-29T14:39:51.374294Z",
          "iopub.execute_input": "2022-06-29T14:39:51.374689Z",
          "iopub.status.idle": "2022-06-29T14:39:51.388566Z",
          "shell.execute_reply.started": "2022-06-29T14:39:51.374651Z",
          "shell.execute_reply": "2022-06-29T14:39:51.387851Z"
        },
        "trusted": true,
        "id": "ktLhOoP9gO0i",
        "outputId": "c7bbfe6f-3b18-4331-809f-ae49115af0b1",
        "colab": {
          "base_uri": "https://localhost:8080/"
        }
      },
      "execution_count": 16,
      "outputs": [
        {
          "output_type": "stream",
          "name": "stdout",
          "text": [
            "<class 'pandas.core.frame.DataFrame'>\n",
            "Int64Index: 4717106 entries, 0 to 2384574\n",
            "Data columns (total 12 columns):\n",
            " #   Column            Dtype  \n",
            "---  ------            -----  \n",
            " 0   RowId             object \n",
            " 1   Date              object \n",
            " 2   SecuritiesCode    int16  \n",
            " 3   Open              float32\n",
            " 4   High              float32\n",
            " 5   Low               float32\n",
            " 6   Close             float32\n",
            " 7   Volume            int32  \n",
            " 8   AdjustmentFactor  float16\n",
            " 9   ExpectedDividend  float16\n",
            " 10  SupervisionFlag   bool   \n",
            " 11  Target            float16\n",
            "dtypes: bool(1), float16(3), float32(4), int16(1), int32(1), object(2)\n",
            "memory usage: 238.4+ MB\n"
          ]
        }
      ]
    },
    {
      "cell_type": "code",
      "source": [
        "plot_missing_val(df_stock_new)"
      ],
      "metadata": {
        "execution": {
          "iopub.status.busy": "2022-06-29T14:39:51.389954Z",
          "iopub.execute_input": "2022-06-29T14:39:51.390271Z",
          "iopub.status.idle": "2022-06-29T14:39:53.48744Z",
          "shell.execute_reply.started": "2022-06-29T14:39:51.390235Z",
          "shell.execute_reply": "2022-06-29T14:39:53.485896Z"
        },
        "trusted": true,
        "id": "HHiaDOc6gO0i",
        "outputId": "b5d77a6f-f61a-4230-b59b-72a510400fc5",
        "colab": {
          "base_uri": "https://localhost:8080/",
          "height": 336
        }
      },
      "execution_count": 17,
      "outputs": [
        {
          "output_type": "display_data",
          "data": {
            "text/plain": [
              "<Figure size 720x360 with 1 Axes>"
            ],
            "image/png": "[encoded data removed]"
          },
          "metadata": {
            "needs_background": "light"
          }
        }
      ]
    },
    {
      "cell_type": "markdown",
      "source": [
        "**Delete feature with more than 90% of missing values**"
      ],
      "metadata": {
        "id": "iy3mjec2gO0j"
      }
    },
    {
      "cell_type": "code",
      "source": [
        "treshold = 90.0\n",
        "min_count =  int(((100-treshold)/100)*df_stock_new.shape[0] + 1)\n",
        "df_stock_new= df_stock_new.dropna( axis=1, \n",
        "                thresh=min_count)"
      ],
      "metadata": {
        "execution": {
          "iopub.status.busy": "2022-06-29T14:39:53.488788Z",
          "iopub.execute_input": "2022-06-29T14:39:53.489028Z",
          "iopub.status.idle": "2022-06-29T14:39:54.652868Z",
          "shell.execute_reply.started": "2022-06-29T14:39:53.488994Z",
          "shell.execute_reply": "2022-06-29T14:39:54.652143Z"
        },
        "trusted": true,
        "id": "xxXbhhj3gO0j"
      },
      "execution_count": 18,
      "outputs": []
    },
    {
      "cell_type": "code",
      "source": [
        "gc.collect()"
      ],
      "metadata": {
        "execution": {
          "iopub.status.busy": "2022-06-29T14:39:54.653994Z",
          "iopub.execute_input": "2022-06-29T14:39:54.654437Z",
          "iopub.status.idle": "2022-06-29T14:39:54.766981Z",
          "shell.execute_reply.started": "2022-06-29T14:39:54.654401Z",
          "shell.execute_reply": "2022-06-29T14:39:54.766264Z"
        },
        "trusted": true,
        "id": "F96CaEBigO0j",
        "outputId": "d74c2c31-c647-4dda-99e9-b9b9d4fadc02",
        "colab": {
          "base_uri": "https://localhost:8080/"
        }
      },
      "execution_count": 19,
      "outputs": [
        {
          "output_type": "execute_result",
          "data": {
            "text/plain": [
              "2895"
            ]
          },
          "metadata": {},
          "execution_count": 19
        }
      ]
    },
    {
      "cell_type": "code",
      "source": [
        "#delete rows with missing values\n",
        "df_stock_new.dropna(inplace=True)"
      ],
      "metadata": {
        "execution": {
          "iopub.status.busy": "2022-06-29T14:39:54.768322Z",
          "iopub.execute_input": "2022-06-29T14:39:54.768821Z",
          "iopub.status.idle": "2022-06-29T14:39:56.132816Z",
          "shell.execute_reply.started": "2022-06-29T14:39:54.768782Z",
          "shell.execute_reply": "2022-06-29T14:39:56.131994Z"
        },
        "trusted": true,
        "id": "u4wV5NqmgO0k"
      },
      "execution_count": 20,
      "outputs": []
    },
    {
      "cell_type": "code",
      "source": [
        "print(\"number of missing values: \", df_stock_new.isnull().sum().sum())"
      ],
      "metadata": {
        "execution": {
          "iopub.status.busy": "2022-06-29T14:39:56.134339Z",
          "iopub.execute_input": "2022-06-29T14:39:56.134578Z",
          "iopub.status.idle": "2022-06-29T14:39:57.239708Z",
          "shell.execute_reply.started": "2022-06-29T14:39:56.134546Z",
          "shell.execute_reply": "2022-06-29T14:39:57.238865Z"
        },
        "trusted": true,
        "id": "zkFI7kCRgO0k",
        "outputId": "a70b4871-03e2-4a4c-ddb7-5cedc948cd6b",
        "colab": {
          "base_uri": "https://localhost:8080/"
        }
      },
      "execution_count": 21,
      "outputs": [
        {
          "output_type": "stream",
          "name": "stdout",
          "text": [
            "number of missing values:  0\n"
          ]
        }
      ]
    },
    {
      "cell_type": "code",
      "source": [
        "df_stock_new['Date'] = pd.to_datetime(df_stock_new['Date'], format = '%Y/%m/%d')\n",
        "df_stock_new.head().style.set_properties(subset=['Date'], **{'background-color': 'yellow'})"
      ],
      "metadata": {
        "execution": {
          "iopub.status.busy": "2022-06-29T14:39:57.241072Z",
          "iopub.execute_input": "2022-06-29T14:39:57.24134Z",
          "iopub.status.idle": "2022-06-29T14:39:58.072789Z",
          "shell.execute_reply.started": "2022-06-29T14:39:57.241304Z",
          "shell.execute_reply": "2022-06-29T14:39:58.071856Z"
        },
        "trusted": true,
        "id": "btZP0XOHgO0l",
        "outputId": "217a6327-43e8-40bf-e0ee-00d82b071f9e",
        "colab": {
          "base_uri": "https://localhost:8080/",
          "height": 206
        }
      },
      "execution_count": 22,
      "outputs": [
        {
          "output_type": "execute_result",
          "data": {
            "text/plain": [
              "<pandas.io.formats.style.Styler at 0x7f603a120650>"
            ],
            "text/html": [
              "<style type=\"text/css\">\n",
              "#T_ee68b_row0_col1, #T_ee68b_row1_col1, #T_ee68b_row2_col1, #T_ee68b_row3_col1, #T_ee68b_row4_col1 {\n",
              "  background-color: yellow;\n",
              "}\n",
              "</style>\n",
              "<table id=\"T_ee68b_\" class=\"dataframe\">\n",
              "  <thead>\n",
              "    <tr>\n",
              "      <th class=\"blank level0\" >&nbsp;</th>\n",
              "      <th class=\"col_heading level0 col0\" >RowId</th>\n",
              "      <th class=\"col_heading level0 col1\" >Date</th>\n",
              "      <th class=\"col_heading level0 col2\" >SecuritiesCode</th>\n",
              "      <th class=\"col_heading level0 col3\" >Open</th>\n",
              "      <th class=\"col_heading level0 col4\" >High</th>\n",
              "      <th class=\"col_heading level0 col5\" >Low</th>\n",
              "      <th class=\"col_heading level0 col6\" >Close</th>\n",
              "      <th class=\"col_heading level0 col7\" >Volume</th>\n",
              "      <th class=\"col_heading level0 col8\" >AdjustmentFactor</th>\n",
              "      <th class=\"col_heading level0 col9\" >SupervisionFlag</th>\n",
              "      <th class=\"col_heading level0 col10\" >Target</th>\n",
              "    </tr>\n",
              "  </thead>\n",
              "  <tbody>\n",
              "    <tr>\n",
              "      <th id=\"T_ee68b_level0_row0\" class=\"row_heading level0 row0\" >0</th>\n",
              "      <td id=\"T_ee68b_row0_col0\" class=\"data row0 col0\" >20170104_1301</td>\n",
              "      <td id=\"T_ee68b_row0_col1\" class=\"data row0 col1\" >2017-01-04 00:00:00</td>\n",
              "      <td id=\"T_ee68b_row0_col2\" class=\"data row0 col2\" >1301</td>\n",
              "      <td id=\"T_ee68b_row0_col3\" class=\"data row0 col3\" >2734.000000</td>\n",
              "      <td id=\"T_ee68b_row0_col4\" class=\"data row0 col4\" >2755.000000</td>\n",
              "      <td id=\"T_ee68b_row0_col5\" class=\"data row0 col5\" >2730.000000</td>\n",
              "      <td id=\"T_ee68b_row0_col6\" class=\"data row0 col6\" >2742.000000</td>\n",
              "      <td id=\"T_ee68b_row0_col7\" class=\"data row0 col7\" >31400</td>\n",
              "      <td id=\"T_ee68b_row0_col8\" class=\"data row0 col8\" >1.000000</td>\n",
              "      <td id=\"T_ee68b_row0_col9\" class=\"data row0 col9\" >False</td>\n",
              "      <td id=\"T_ee68b_row0_col10\" class=\"data row0 col10\" >0.000731</td>\n",
              "    </tr>\n",
              "    <tr>\n",
              "      <th id=\"T_ee68b_level0_row1\" class=\"row_heading level0 row1\" >1</th>\n",
              "      <td id=\"T_ee68b_row1_col0\" class=\"data row1 col0\" >20170104_1332</td>\n",
              "      <td id=\"T_ee68b_row1_col1\" class=\"data row1 col1\" >2017-01-04 00:00:00</td>\n",
              "      <td id=\"T_ee68b_row1_col2\" class=\"data row1 col2\" >1332</td>\n",
              "      <td id=\"T_ee68b_row1_col3\" class=\"data row1 col3\" >568.000000</td>\n",
              "      <td id=\"T_ee68b_row1_col4\" class=\"data row1 col4\" >576.000000</td>\n",
              "      <td id=\"T_ee68b_row1_col5\" class=\"data row1 col5\" >563.000000</td>\n",
              "      <td id=\"T_ee68b_row1_col6\" class=\"data row1 col6\" >571.000000</td>\n",
              "      <td id=\"T_ee68b_row1_col7\" class=\"data row1 col7\" >2798500</td>\n",
              "      <td id=\"T_ee68b_row1_col8\" class=\"data row1 col8\" >1.000000</td>\n",
              "      <td id=\"T_ee68b_row1_col9\" class=\"data row1 col9\" >False</td>\n",
              "      <td id=\"T_ee68b_row1_col10\" class=\"data row1 col10\" >0.012321</td>\n",
              "    </tr>\n",
              "    <tr>\n",
              "      <th id=\"T_ee68b_level0_row2\" class=\"row_heading level0 row2\" >2</th>\n",
              "      <td id=\"T_ee68b_row2_col0\" class=\"data row2 col0\" >20170104_1333</td>\n",
              "      <td id=\"T_ee68b_row2_col1\" class=\"data row2 col1\" >2017-01-04 00:00:00</td>\n",
              "      <td id=\"T_ee68b_row2_col2\" class=\"data row2 col2\" >1333</td>\n",
              "      <td id=\"T_ee68b_row2_col3\" class=\"data row2 col3\" >3150.000000</td>\n",
              "      <td id=\"T_ee68b_row2_col4\" class=\"data row2 col4\" >3210.000000</td>\n",
              "      <td id=\"T_ee68b_row2_col5\" class=\"data row2 col5\" >3140.000000</td>\n",
              "      <td id=\"T_ee68b_row2_col6\" class=\"data row2 col6\" >3210.000000</td>\n",
              "      <td id=\"T_ee68b_row2_col7\" class=\"data row2 col7\" >270800</td>\n",
              "      <td id=\"T_ee68b_row2_col8\" class=\"data row2 col8\" >1.000000</td>\n",
              "      <td id=\"T_ee68b_row2_col9\" class=\"data row2 col9\" >False</td>\n",
              "      <td id=\"T_ee68b_row2_col10\" class=\"data row2 col10\" >0.006153</td>\n",
              "    </tr>\n",
              "    <tr>\n",
              "      <th id=\"T_ee68b_level0_row3\" class=\"row_heading level0 row3\" >3</th>\n",
              "      <td id=\"T_ee68b_row3_col0\" class=\"data row3 col0\" >20170104_1376</td>\n",
              "      <td id=\"T_ee68b_row3_col1\" class=\"data row3 col1\" >2017-01-04 00:00:00</td>\n",
              "      <td id=\"T_ee68b_row3_col2\" class=\"data row3 col2\" >1376</td>\n",
              "      <td id=\"T_ee68b_row3_col3\" class=\"data row3 col3\" >1510.000000</td>\n",
              "      <td id=\"T_ee68b_row3_col4\" class=\"data row3 col4\" >1550.000000</td>\n",
              "      <td id=\"T_ee68b_row3_col5\" class=\"data row3 col5\" >1510.000000</td>\n",
              "      <td id=\"T_ee68b_row3_col6\" class=\"data row3 col6\" >1550.000000</td>\n",
              "      <td id=\"T_ee68b_row3_col7\" class=\"data row3 col7\" >11300</td>\n",
              "      <td id=\"T_ee68b_row3_col8\" class=\"data row3 col8\" >1.000000</td>\n",
              "      <td id=\"T_ee68b_row3_col9\" class=\"data row3 col9\" >False</td>\n",
              "      <td id=\"T_ee68b_row3_col10\" class=\"data row3 col10\" >0.011055</td>\n",
              "    </tr>\n",
              "    <tr>\n",
              "      <th id=\"T_ee68b_level0_row4\" class=\"row_heading level0 row4\" >4</th>\n",
              "      <td id=\"T_ee68b_row4_col0\" class=\"data row4 col0\" >20170104_1377</td>\n",
              "      <td id=\"T_ee68b_row4_col1\" class=\"data row4 col1\" >2017-01-04 00:00:00</td>\n",
              "      <td id=\"T_ee68b_row4_col2\" class=\"data row4 col2\" >1377</td>\n",
              "      <td id=\"T_ee68b_row4_col3\" class=\"data row4 col3\" >3270.000000</td>\n",
              "      <td id=\"T_ee68b_row4_col4\" class=\"data row4 col4\" >3350.000000</td>\n",
              "      <td id=\"T_ee68b_row4_col5\" class=\"data row4 col5\" >3270.000000</td>\n",
              "      <td id=\"T_ee68b_row4_col6\" class=\"data row4 col6\" >3330.000000</td>\n",
              "      <td id=\"T_ee68b_row4_col7\" class=\"data row4 col7\" >150800</td>\n",
              "      <td id=\"T_ee68b_row4_col8\" class=\"data row4 col8\" >1.000000</td>\n",
              "      <td id=\"T_ee68b_row4_col9\" class=\"data row4 col9\" >False</td>\n",
              "      <td id=\"T_ee68b_row4_col10\" class=\"data row4 col10\" >0.003025</td>\n",
              "    </tr>\n",
              "  </tbody>\n",
              "</table>\n"
            ]
          },
          "metadata": {},
          "execution_count": 22
        }
      ]
    },
    {
      "cell_type": "code",
      "source": [
        "df_stock_new.plot(x='Date', y='Volume', figsize=(10,5), legend=True);"
      ],
      "metadata": {
        "execution": {
          "iopub.status.busy": "2022-06-29T14:39:58.07411Z",
          "iopub.execute_input": "2022-06-29T14:39:58.074434Z",
          "iopub.status.idle": "2022-06-29T14:40:29.310263Z",
          "shell.execute_reply.started": "2022-06-29T14:39:58.074398Z",
          "shell.execute_reply": "2022-06-29T14:40:29.309478Z"
        },
        "trusted": true,
        "id": "ePrvZhrZgO0l",
        "outputId": "0f22bcee-8d8d-4b59-d39d-714e59f1079f",
        "colab": {
          "base_uri": "https://localhost:8080/",
          "height": 329
        }
      },
      "execution_count": 23,
      "outputs": [
        {
          "output_type": "display_data",
          "data": {
            "text/plain": [
              "<Figure size 720x360 with 1 Axes>"
            ],
            "image/png": "[encoded data removed]"
          },
          "metadata": {
            "needs_background": "light"
          }
        }
      ]
    },
    {
      "cell_type": "code",
      "source": [
        "gc.collect()"
      ],
      "metadata": {
        "execution": {
          "iopub.status.busy": "2022-06-29T14:40:29.311474Z",
          "iopub.execute_input": "2022-06-29T14:40:29.311997Z",
          "iopub.status.idle": "2022-06-29T14:40:30.494753Z",
          "shell.execute_reply.started": "2022-06-29T14:40:29.311956Z",
          "shell.execute_reply": "2022-06-29T14:40:30.494006Z"
        },
        "trusted": true,
        "id": "n6qHPG5WgO0l",
        "outputId": "f9c8f9da-ffc3-41d9-80aa-9bb6a46c3acb",
        "colab": {
          "base_uri": "https://localhost:8080/"
        }
      },
      "execution_count": 24,
      "outputs": [
        {
          "output_type": "execute_result",
          "data": {
            "text/plain": [
              "2607"
            ]
          },
          "metadata": {},
          "execution_count": 24
        }
      ]
    },
    {
      "cell_type": "code",
      "source": [
        "\n",
        "df_stock_new.SupervisionFlag = df_stock_new.SupervisionFlag.replace({True: 1, False: 0})"
      ],
      "metadata": {
        "execution": {
          "iopub.status.busy": "2022-06-29T14:40:30.495817Z",
          "iopub.execute_input": "2022-06-29T14:40:30.496066Z",
          "iopub.status.idle": "2022-06-29T14:40:32.016363Z",
          "shell.execute_reply.started": "2022-06-29T14:40:30.496028Z",
          "shell.execute_reply": "2022-06-29T14:40:32.015629Z"
        },
        "trusted": true,
        "id": "YwlI8EsggO0m"
      },
      "execution_count": 25,
      "outputs": []
    },
    {
      "cell_type": "code",
      "source": [
        "gc.collect()"
      ],
      "metadata": {
        "execution": {
          "iopub.status.busy": "2022-06-29T14:40:32.017602Z",
          "iopub.execute_input": "2022-06-29T14:40:32.01787Z",
          "iopub.status.idle": "2022-06-29T14:40:32.124685Z",
          "shell.execute_reply.started": "2022-06-29T14:40:32.017836Z",
          "shell.execute_reply": "2022-06-29T14:40:32.123824Z"
        },
        "trusted": true,
        "id": "2_9E7E8-gO0m",
        "outputId": "c95c107f-f0fe-4158-fffd-da42827dca50",
        "colab": {
          "base_uri": "https://localhost:8080/"
        }
      },
      "execution_count": 26,
      "outputs": [
        {
          "output_type": "execute_result",
          "data": {
            "text/plain": [
              "100"
            ]
          },
          "metadata": {},
          "execution_count": 26
        }
      ]
    },
    {
      "cell_type": "code",
      "source": [
        "df_stock_new = reduce_mem_usage(df_stock_new)"
      ],
      "metadata": {
        "execution": {
          "iopub.status.busy": "2022-06-29T14:40:32.125936Z",
          "iopub.execute_input": "2022-06-29T14:40:32.12682Z",
          "iopub.status.idle": "2022-06-29T14:40:32.611853Z",
          "shell.execute_reply.started": "2022-06-29T14:40:32.126781Z",
          "shell.execute_reply": "2022-06-29T14:40:32.611091Z"
        },
        "trusted": true,
        "id": "ZL5X0wFVgO0m",
        "outputId": "15aa8ea2-2fbd-4888-e05a-4653e404399c",
        "colab": {
          "base_uri": "https://localhost:8080/"
        }
      },
      "execution_count": 27,
      "outputs": [
        {
          "output_type": "stream",
          "name": "stdout",
          "text": [
            "Memory usage after optimization is: 224.57 MB\n",
            "Decreased by 12.1%\n"
          ]
        }
      ]
    },
    {
      "cell_type": "code",
      "source": [
        "df_stock_new.head()"
      ],
      "metadata": {
        "execution": {
          "iopub.status.busy": "2022-06-29T14:40:32.61329Z",
          "iopub.execute_input": "2022-06-29T14:40:32.613536Z",
          "iopub.status.idle": "2022-06-29T14:40:32.62946Z",
          "shell.execute_reply.started": "2022-06-29T14:40:32.6135Z",
          "shell.execute_reply": "2022-06-29T14:40:32.628473Z"
        },
        "trusted": true,
        "id": "pwUSpSuRgO0m",
        "outputId": "6327b4e8-2a90-4d3c-c1d5-427e94aeca05",
        "colab": {
          "base_uri": "https://localhost:8080/",
          "height": 206
        }
      },
      "execution_count": 28,
      "outputs": [
        {
          "output_type": "execute_result",
          "data": {
            "text/plain": [
              "           RowId       Date  SecuritiesCode    Open    High     Low   Close  \\\n",
              "0  20170104_1301 2017-01-04            1301  2734.0  2755.0  2730.0  2742.0   \n",
              "1  20170104_1332 2017-01-04            1332   568.0   576.0   563.0   571.0   \n",
              "2  20170104_1333 2017-01-04            1333  3150.0  3210.0  3140.0  3210.0   \n",
              "3  20170104_1376 2017-01-04            1376  1510.0  1550.0  1510.0  1550.0   \n",
              "4  20170104_1377 2017-01-04            1377  3270.0  3350.0  3270.0  3330.0   \n",
              "\n",
              "    Volume  AdjustmentFactor  SupervisionFlag    Target  \n",
              "0    31400               1.0                0  0.000731  \n",
              "1  2798500               1.0                0  0.012321  \n",
              "2   270800               1.0                0  0.006153  \n",
              "3    11300               1.0                0  0.011055  \n",
              "4   150800               1.0                0  0.003025  "
            ],
            "text/html": [
              "\n",
              "  <div id=\"df-c2fbc17e-4ccc-42e7-8626-2ac493f9b736\">\n",
              "    <div class=\"colab-df-container\">\n",
              "      <div>\n",
              "<style scoped>\n",
              "    .dataframe tbody tr th:only-of-type {\n",
              "        vertical-align: middle;\n",
              "    }\n",
              "\n",
              "    .dataframe tbody tr th {\n",
              "        vertical-align: top;\n",
              "    }\n",
              "\n",
              "    .dataframe thead th {\n",
              "        text-align: right;\n",
              "    }\n",
              "</style>\n",
              "<table border=\"1\" class=\"dataframe\">\n",
              "  <thead>\n",
              "    <tr style=\"text-align: right;\">\n",
              "      <th></th>\n",
              "      <th>RowId</th>\n",
              "      <th>Date</th>\n",
              "      <th>SecuritiesCode</th>\n",
              "      <th>Open</th>\n",
              "      <th>High</th>\n",
              "      <th>Low</th>\n",
              "      <th>Close</th>\n",
              "      <th>Volume</th>\n",
              "      <th>AdjustmentFactor</th>\n",
              "      <th>SupervisionFlag</th>\n",
              "      <th>Target</th>\n",
              "    </tr>\n",
              "  </thead>\n",
              "  <tbody>\n",
              "    <tr>\n",
              "      <th>0</th>\n",
              "      <td>20170104_1301</td>\n",
              "      <td>2017-01-04</td>\n",
              "      <td>1301</td>\n",
              "      <td>2734.0</td>\n",
              "      <td>2755.0</td>\n",
              "      <td>2730.0</td>\n",
              "      <td>2742.0</td>\n",
              "      <td>31400</td>\n",
              "      <td>1.0</td>\n",
              "      <td>0</td>\n",
              "      <td>0.000731</td>\n",
              "    </tr>\n",
              "    <tr>\n",
              "      <th>1</th>\n",
              "      <td>20170104_1332</td>\n",
              "      <td>2017-01-04</td>\n",
              "      <td>1332</td>\n",
              "      <td>568.0</td>\n",
              "      <td>576.0</td>\n",
              "      <td>563.0</td>\n",
              "      <td>571.0</td>\n",
              "      <td>2798500</td>\n",
              "      <td>1.0</td>\n",
              "      <td>0</td>\n",
              "      <td>0.012321</td>\n",
              "    </tr>\n",
              "    <tr>\n",
              "      <th>2</th>\n",
              "      <td>20170104_1333</td>\n",
              "      <td>2017-01-04</td>\n",
              "      <td>1333</td>\n",
              "      <td>3150.0</td>\n",
              "      <td>3210.0</td>\n",
              "      <td>3140.0</td>\n",
              "      <td>3210.0</td>\n",
              "      <td>270800</td>\n",
              "      <td>1.0</td>\n",
              "      <td>0</td>\n",
              "      <td>0.006153</td>\n",
              "    </tr>\n",
              "    <tr>\n",
              "      <th>3</th>\n",
              "      <td>20170104_1376</td>\n",
              "      <td>2017-01-04</td>\n",
              "      <td>1376</td>\n",
              "      <td>1510.0</td>\n",
              "      <td>1550.0</td>\n",
              "      <td>1510.0</td>\n",
              "      <td>1550.0</td>\n",
              "      <td>11300</td>\n",
              "      <td>1.0</td>\n",
              "      <td>0</td>\n",
              "      <td>0.011055</td>\n",
              "    </tr>\n",
              "    <tr>\n",
              "      <th>4</th>\n",
              "      <td>20170104_1377</td>\n",
              "      <td>2017-01-04</td>\n",
              "      <td>1377</td>\n",
              "      <td>3270.0</td>\n",
              "      <td>3350.0</td>\n",
              "      <td>3270.0</td>\n",
              "      <td>3330.0</td>\n",
              "      <td>150800</td>\n",
              "      <td>1.0</td>\n",
              "      <td>0</td>\n",
              "      <td>0.003025</td>\n",
              "    </tr>\n",
              "  </tbody>\n",
              "</table>\n",
              "</div>\n",
              "      <button class=\"colab-df-convert\" onclick=\"convertToInteractive('df-c2fbc17e-4ccc-42e7-8626-2ac493f9b736')\"\n",
              "              title=\"Convert this dataframe to an interactive table.\"\n",
              "              style=\"display:none;\">\n",
              "        \n",
              "  <svg xmlns=\"http://www.w3.org/2000/svg\" height=\"24px\"viewBox=\"0 0 24 24\"\n",
              "       width=\"24px\">\n",
              "    <path d=\"M0 0h24v24H0V0z\" fill=\"none\"/>\n",
              "    <path d=\"M18.56 5.44l.94 2.06.94-2.06 2.06-.94-2.06-.94-.94-2.06-.94 2.06-2.06.94zm-11 1L8.5 8.5l.94-2.06 2.06-.94-2.06-.94L8.5 2.5l-.94 2.06-2.06.94zm10 10l.94 2.06.94-2.06 2.06-.94-2.06-.94-.94-2.06-.94 2.06-2.06.94z\"/><path d=\"M17.41 7.96l-1.37-1.37c-.4-.4-.92-.59-1.43-.59-.52 0-1.04.2-1.43.59L10.3 9.45l-7.72 7.72c-.78.78-.78 2.05 0 2.83L4 21.41c.39.39.9.59 1.41.59.51 0 1.02-.2 1.41-.59l7.78-7.78 2.81-2.81c.8-.78.8-2.07 0-2.86zM5.41 20L4 18.59l7.72-7.72 1.47 1.35L5.41 20z\"/>\n",
              "  </svg>\n",
              "      </button>\n",
              "      \n",
              "  <style>\n",
              "    .colab-df-container {\n",
              "      display:flex;\n",
              "      flex-wrap:wrap;\n",
              "      gap: 12px;\n",
              "    }\n",
              "\n",
              "    .colab-df-convert {\n",
              "      background-color: #E8F0FE;\n",
              "      border: none;\n",
              "      border-radius: 50%;\n",
              "      cursor: pointer;\n",
              "      display: none;\n",
              "      fill: #1967D2;\n",
              "      height: 32px;\n",
              "      padding: 0 0 0 0;\n",
              "      width: 32px;\n",
              "    }\n",
              "\n",
              "    .colab-df-convert:hover {\n",
              "      background-color: #E2EBFA;\n",
              "      box-shadow: 0px 1px 2px rgba(60, 64, 67, 0.3), 0px 1px 3px 1px rgba(60, 64, 67, 0.15);\n",
              "      fill: #174EA6;\n",
              "    }\n",
              "\n",
              "    [theme=dark] .colab-df-convert {\n",
              "      background-color: #3B4455;\n",
              "      fill: #D2E3FC;\n",
              "    }\n",
              "\n",
              "    [theme=dark] .colab-df-convert:hover {\n",
              "      background-color: #434B5C;\n",
              "      box-shadow: 0px 1px 3px 1px rgba(0, 0, 0, 0.15);\n",
              "      filter: drop-shadow(0px 1px 2px rgba(0, 0, 0, 0.3));\n",
              "      fill: #FFFFFF;\n",
              "    }\n",
              "  </style>\n",
              "\n",
              "      <script>\n",
              "        const buttonEl =\n",
              "          document.querySelector('#df-c2fbc17e-4ccc-42e7-8626-2ac493f9b736 button.colab-df-convert');\n",
              "        buttonEl.style.display =\n",
              "          google.colab.kernel.accessAllowed ? 'block' : 'none';\n",
              "\n",
              "        async function convertToInteractive(key) {\n",
              "          const element = document.querySelector('#df-c2fbc17e-4ccc-42e7-8626-2ac493f9b736');\n",
              "          const dataTable =\n",
              "            await google.colab.kernel.invokeFunction('convertToInteractive',\n",
              "                                                     [key], {});\n",
              "          if (!dataTable) return;\n",
              "\n",
              "          const docLinkHtml = 'Like what you see? Visit the ' +\n",
              "            '<a target=\"_blank\" href=https://colab.research.google.com/notebooks/data_table.ipynb>data table notebook</a>'\n",
              "            + ' to learn more about interactive tables.';\n",
              "          element.innerHTML = '';\n",
              "          dataTable['output_type'] = 'display_data';\n",
              "          await google.colab.output.renderOutput(dataTable, element);\n",
              "          const docLink = document.createElement('div');\n",
              "          docLink.innerHTML = docLinkHtml;\n",
              "          element.appendChild(docLink);\n",
              "        }\n",
              "      </script>\n",
              "    </div>\n",
              "  </div>\n",
              "  "
            ]
          },
          "metadata": {},
          "execution_count": 28
        }
      ]
    },
    {
      "cell_type": "markdown",
      "source": [
        "# **Data visualization**"
      ],
      "metadata": {
        "id": "zxwlR5bHgO0o"
      }
    },
    {
      "cell_type": "code",
      "source": [
        "df_stock_new.boxplot(rot=45, figsize=(10,5));"
      ],
      "metadata": {
        "execution": {
          "iopub.status.busy": "2022-06-29T14:40:32.634078Z",
          "iopub.execute_input": "2022-06-29T14:40:32.634361Z",
          "iopub.status.idle": "2022-06-29T14:41:58.230199Z",
          "shell.execute_reply.started": "2022-06-29T14:40:32.634325Z",
          "shell.execute_reply": "2022-06-29T14:41:58.229365Z"
        },
        "trusted": true,
        "id": "DFrVNPFJgO0o",
        "outputId": "da0b08b4-1f76-45f8-b69f-d15c480503dc",
        "colab": {
          "base_uri": "https://localhost:8080/",
          "height": 390
        }
      },
      "execution_count": 29,
      "outputs": [
        {
          "output_type": "display_data",
          "data": {
            "text/plain": [
              "<Figure size 720x360 with 1 Axes>"
            ],
            "image/png": "[encoded data removed]"
          },
          "metadata": {
            "needs_background": "light"
          }
        }
      ]
    },
    {
      "cell_type": "code",
      "source": [
        "gc.collect()"
      ],
      "metadata": {
        "execution": {
          "iopub.status.busy": "2022-06-29T14:41:58.23156Z",
          "iopub.execute_input": "2022-06-29T14:41:58.231832Z",
          "iopub.status.idle": "2022-06-29T14:41:58.500504Z",
          "shell.execute_reply.started": "2022-06-29T14:41:58.231798Z",
          "shell.execute_reply": "2022-06-29T14:41:58.499701Z"
        },
        "trusted": true,
        "id": "yIDLzu0YgO0p",
        "outputId": "4d23b77b-5cdc-45e3-f48f-5358faa9c1c0",
        "colab": {
          "base_uri": "https://localhost:8080/"
        }
      },
      "execution_count": 30,
      "outputs": [
        {
          "output_type": "execute_result",
          "data": {
            "text/plain": [
              "7344"
            ]
          },
          "metadata": {},
          "execution_count": 30
        }
      ]
    },
    {
      "cell_type": "markdown",
      "source": [
        "# **Train/Test Split**"
      ],
      "metadata": {
        "id": "BcdY-OsrgO0p"
      }
    },
    {
      "cell_type": "code",
      "source": [
        "test_size = int((df_stock_new.shape[0] *80)/100)\n",
        "\n",
        "df_train = df_stock_new[:test_size]\n",
        "df_test = df_stock_new[test_size:]"
      ],
      "metadata": {
        "execution": {
          "iopub.status.busy": "2022-06-29T14:41:58.501964Z",
          "iopub.execute_input": "2022-06-29T14:41:58.502238Z",
          "iopub.status.idle": "2022-06-29T14:41:58.510139Z",
          "shell.execute_reply.started": "2022-06-29T14:41:58.502202Z",
          "shell.execute_reply": "2022-06-29T14:41:58.509509Z"
        },
        "trusted": true,
        "id": "LL1tDoCXgO0p"
      },
      "execution_count": 31,
      "outputs": []
    },
    {
      "cell_type": "code",
      "source": [
        "ax = df_train.plot(x='Date', y='Volume', figsize=(10,5), legend=True)\n",
        "df_test.plot(x='Date', y='Volume', ax=ax)\n",
        "ax.legend([\"Train\", \"Test\"]);"
      ],
      "metadata": {
        "execution": {
          "iopub.status.busy": "2022-06-29T14:41:58.511293Z",
          "iopub.execute_input": "2022-06-29T14:41:58.51204Z",
          "iopub.status.idle": "2022-06-29T14:42:29.368752Z",
          "shell.execute_reply.started": "2022-06-29T14:41:58.51198Z",
          "shell.execute_reply": "2022-06-29T14:42:29.368106Z"
        },
        "trusted": true,
        "id": "rwQHmgUQgO0q",
        "outputId": "fd1df650-f3f3-4d18-e281-7811a0caba30",
        "colab": {
          "base_uri": "https://localhost:8080/",
          "height": 329
        }
      },
      "execution_count": 32,
      "outputs": [
        {
          "output_type": "display_data",
          "data": {
            "text/plain": [
              "<Figure size 720x360 with 1 Axes>"
            ],
            "image/png": "[encoded data removed]"
          },
          "metadata": {
            "needs_background": "light"
          }
        }
      ]
    },
    {
      "cell_type": "code",
      "source": [
        "#Format data for prophet\n",
        "df_train.rename(columns = {'Date':'ds', 'Target':'y'}, inplace = True)\n"
      ],
      "metadata": {
        "execution": {
          "iopub.status.busy": "2022-06-29T14:42:29.369923Z",
          "iopub.execute_input": "2022-06-29T14:42:29.370252Z",
          "iopub.status.idle": "2022-06-29T14:42:29.380462Z",
          "shell.execute_reply.started": "2022-06-29T14:42:29.370215Z",
          "shell.execute_reply": "2022-06-29T14:42:29.379603Z"
        },
        "trusted": true,
        "id": "n3ceMuYkgO0q",
        "outputId": "2c324ac5-642b-4992-95a0-dd24b2c114ae",
        "colab": {
          "base_uri": "https://localhost:8080/"
        }
      },
      "execution_count": 33,
      "outputs": [
        {
          "output_type": "stream",
          "name": "stderr",
          "text": [
            "/usr/local/lib/python3.7/dist-packages/pandas/core/frame.py:5047: SettingWithCopyWarning: \n",
            "A value is trying to be set on a copy of a slice from a DataFrame\n",
            "\n",
            "See the caveats in the documentation: https://pandas.pydata.org/pandas-docs/stable/user_guide/indexing.html#returning-a-view-versus-a-copy\n",
            "  errors=errors,\n"
          ]
        }
      ]
    },
    {
      "cell_type": "code",
      "source": [
        "df_train.drop(['RowId'], axis=1, inplace = True)"
      ],
      "metadata": {
        "execution": {
          "iopub.status.busy": "2022-06-29T14:42:29.381553Z",
          "iopub.execute_input": "2022-06-29T14:42:29.381972Z",
          "iopub.status.idle": "2022-06-29T14:42:29.461361Z",
          "shell.execute_reply.started": "2022-06-29T14:42:29.381932Z",
          "shell.execute_reply": "2022-06-29T14:42:29.459648Z"
        },
        "trusted": true,
        "id": "1TT0vakagO0q",
        "outputId": "f586e021-3a93-4077-8dfc-ce860d80d92a",
        "colab": {
          "base_uri": "https://localhost:8080/"
        }
      },
      "execution_count": 34,
      "outputs": [
        {
          "output_type": "stream",
          "name": "stderr",
          "text": [
            "/usr/local/lib/python3.7/dist-packages/pandas/core/frame.py:4913: SettingWithCopyWarning: \n",
            "A value is trying to be set on a copy of a slice from a DataFrame\n",
            "\n",
            "See the caveats in the documentation: https://pandas.pydata.org/pandas-docs/stable/user_guide/indexing.html#returning-a-view-versus-a-copy\n",
            "  errors=errors,\n"
          ]
        }
      ]
    },
    {
      "cell_type": "code",
      "source": [
        "df_train.head()"
      ],
      "metadata": {
        "execution": {
          "iopub.status.busy": "2022-06-29T14:42:29.462574Z",
          "iopub.execute_input": "2022-06-29T14:42:29.462898Z",
          "iopub.status.idle": "2022-06-29T14:42:29.478004Z",
          "shell.execute_reply.started": "2022-06-29T14:42:29.462861Z",
          "shell.execute_reply": "2022-06-29T14:42:29.477099Z"
        },
        "trusted": true,
        "id": "TprJsKlzgO0r",
        "outputId": "8b546c6d-e9db-40cd-f6b3-93488bf996c0",
        "colab": {
          "base_uri": "https://localhost:8080/",
          "height": 206
        }
      },
      "execution_count": 35,
      "outputs": [
        {
          "output_type": "execute_result",
          "data": {
            "text/plain": [
              "          ds  SecuritiesCode    Open    High     Low   Close   Volume  \\\n",
              "0 2017-01-04            1301  2734.0  2755.0  2730.0  2742.0    31400   \n",
              "1 2017-01-04            1332   568.0   576.0   563.0   571.0  2798500   \n",
              "2 2017-01-04            1333  3150.0  3210.0  3140.0  3210.0   270800   \n",
              "3 2017-01-04            1376  1510.0  1550.0  1510.0  1550.0    11300   \n",
              "4 2017-01-04            1377  3270.0  3350.0  3270.0  3330.0   150800   \n",
              "\n",
              "   AdjustmentFactor  SupervisionFlag         y  \n",
              "0               1.0                0  0.000731  \n",
              "1               1.0                0  0.012321  \n",
              "2               1.0                0  0.006153  \n",
              "3               1.0                0  0.011055  \n",
              "4               1.0                0  0.003025  "
            ],
            "text/html": [
              "\n",
              "  <div id=\"df-7c16671d-e1d7-4f03-90d8-c11d755348ed\">\n",
              "    <div class=\"colab-df-container\">\n",
              "      <div>\n",
              "<style scoped>\n",
              "    .dataframe tbody tr th:only-of-type {\n",
              "        vertical-align: middle;\n",
              "    }\n",
              "\n",
              "    .dataframe tbody tr th {\n",
              "        vertical-align: top;\n",
              "    }\n",
              "\n",
              "    .dataframe thead th {\n",
              "        text-align: right;\n",
              "    }\n",
              "</style>\n",
              "<table border=\"1\" class=\"dataframe\">\n",
              "  <thead>\n",
              "    <tr style=\"text-align: right;\">\n",
              "      <th></th>\n",
              "      <th>ds</th>\n",
              "      <th>SecuritiesCode</th>\n",
              "      <th>Open</th>\n",
              "      <th>High</th>\n",
              "      <th>Low</th>\n",
              "      <th>Close</th>\n",
              "      <th>Volume</th>\n",
              "      <th>AdjustmentFactor</th>\n",
              "      <th>SupervisionFlag</th>\n",
              "      <th>y</th>\n",
              "    </tr>\n",
              "  </thead>\n",
              "  <tbody>\n",
              "    <tr>\n",
              "      <th>0</th>\n",
              "      <td>2017-01-04</td>\n",
              "      <td>1301</td>\n",
              "      <td>2734.0</td>\n",
              "      <td>2755.0</td>\n",
              "      <td>2730.0</td>\n",
              "      <td>2742.0</td>\n",
              "      <td>31400</td>\n",
              "      <td>1.0</td>\n",
              "      <td>0</td>\n",
              "      <td>0.000731</td>\n",
              "    </tr>\n",
              "    <tr>\n",
              "      <th>1</th>\n",
              "      <td>2017-01-04</td>\n",
              "      <td>1332</td>\n",
              "      <td>568.0</td>\n",
              "      <td>576.0</td>\n",
              "      <td>563.0</td>\n",
              "      <td>571.0</td>\n",
              "      <td>2798500</td>\n",
              "      <td>1.0</td>\n",
              "      <td>0</td>\n",
              "      <td>0.012321</td>\n",
              "    </tr>\n",
              "    <tr>\n",
              "      <th>2</th>\n",
              "      <td>2017-01-04</td>\n",
              "      <td>1333</td>\n",
              "      <td>3150.0</td>\n",
              "      <td>3210.0</td>\n",
              "      <td>3140.0</td>\n",
              "      <td>3210.0</td>\n",
              "      <td>270800</td>\n",
              "      <td>1.0</td>\n",
              "      <td>0</td>\n",
              "      <td>0.006153</td>\n",
              "    </tr>\n",
              "    <tr>\n",
              "      <th>3</th>\n",
              "      <td>2017-01-04</td>\n",
              "      <td>1376</td>\n",
              "      <td>1510.0</td>\n",
              "      <td>1550.0</td>\n",
              "      <td>1510.0</td>\n",
              "      <td>1550.0</td>\n",
              "      <td>11300</td>\n",
              "      <td>1.0</td>\n",
              "      <td>0</td>\n",
              "      <td>0.011055</td>\n",
              "    </tr>\n",
              "    <tr>\n",
              "      <th>4</th>\n",
              "      <td>2017-01-04</td>\n",
              "      <td>1377</td>\n",
              "      <td>3270.0</td>\n",
              "      <td>3350.0</td>\n",
              "      <td>3270.0</td>\n",
              "      <td>3330.0</td>\n",
              "      <td>150800</td>\n",
              "      <td>1.0</td>\n",
              "      <td>0</td>\n",
              "      <td>0.003025</td>\n",
              "    </tr>\n",
              "  </tbody>\n",
              "</table>\n",
              "</div>\n",
              "      <button class=\"colab-df-convert\" onclick=\"convertToInteractive('df-7c16671d-e1d7-4f03-90d8-c11d755348ed')\"\n",
              "              title=\"Convert this dataframe to an interactive table.\"\n",
              "              style=\"display:none;\">\n",
              "        \n",
              "  <svg xmlns=\"http://www.w3.org/2000/svg\" height=\"24px\"viewBox=\"0 0 24 24\"\n",
              "       width=\"24px\">\n",
              "    <path d=\"M0 0h24v24H0V0z\" fill=\"none\"/>\n",
              "    <path d=\"M18.56 5.44l.94 2.06.94-2.06 2.06-.94-2.06-.94-.94-2.06-.94 2.06-2.06.94zm-11 1L8.5 8.5l.94-2.06 2.06-.94-2.06-.94L8.5 2.5l-.94 2.06-2.06.94zm10 10l.94 2.06.94-2.06 2.06-.94-2.06-.94-.94-2.06-.94 2.06-2.06.94z\"/><path d=\"M17.41 7.96l-1.37-1.37c-.4-.4-.92-.59-1.43-.59-.52 0-1.04.2-1.43.59L10.3 9.45l-7.72 7.72c-.78.78-.78 2.05 0 2.83L4 21.41c.39.39.9.59 1.41.59.51 0 1.02-.2 1.41-.59l7.78-7.78 2.81-2.81c.8-.78.8-2.07 0-2.86zM5.41 20L4 18.59l7.72-7.72 1.47 1.35L5.41 20z\"/>\n",
              "  </svg>\n",
              "      </button>\n",
              "      \n",
              "  <style>\n",
              "    .colab-df-container {\n",
              "      display:flex;\n",
              "      flex-wrap:wrap;\n",
              "      gap: 12px;\n",
              "    }\n",
              "\n",
              "    .colab-df-convert {\n",
              "      background-color: #E8F0FE;\n",
              "      border: none;\n",
              "      border-radius: 50%;\n",
              "      cursor: pointer;\n",
              "      display: none;\n",
              "      fill: #1967D2;\n",
              "      height: 32px;\n",
              "      padding: 0 0 0 0;\n",
              "      width: 32px;\n",
              "    }\n",
              "\n",
              "    .colab-df-convert:hover {\n",
              "      background-color: #E2EBFA;\n",
              "      box-shadow: 0px 1px 2px rgba(60, 64, 67, 0.3), 0px 1px 3px 1px rgba(60, 64, 67, 0.15);\n",
              "      fill: #174EA6;\n",
              "    }\n",
              "\n",
              "    [theme=dark] .colab-df-convert {\n",
              "      background-color: #3B4455;\n",
              "      fill: #D2E3FC;\n",
              "    }\n",
              "\n",
              "    [theme=dark] .colab-df-convert:hover {\n",
              "      background-color: #434B5C;\n",
              "      box-shadow: 0px 1px 3px 1px rgba(0, 0, 0, 0.15);\n",
              "      filter: drop-shadow(0px 1px 2px rgba(0, 0, 0, 0.3));\n",
              "      fill: #FFFFFF;\n",
              "    }\n",
              "  </style>\n",
              "\n",
              "      <script>\n",
              "        const buttonEl =\n",
              "          document.querySelector('#df-7c16671d-e1d7-4f03-90d8-c11d755348ed button.colab-df-convert');\n",
              "        buttonEl.style.display =\n",
              "          google.colab.kernel.accessAllowed ? 'block' : 'none';\n",
              "\n",
              "        async function convertToInteractive(key) {\n",
              "          const element = document.querySelector('#df-7c16671d-e1d7-4f03-90d8-c11d755348ed');\n",
              "          const dataTable =\n",
              "            await google.colab.kernel.invokeFunction('convertToInteractive',\n",
              "                                                     [key], {});\n",
              "          if (!dataTable) return;\n",
              "\n",
              "          const docLinkHtml = 'Like what you see? Visit the ' +\n",
              "            '<a target=\"_blank\" href=https://colab.research.google.com/notebooks/data_table.ipynb>data table notebook</a>'\n",
              "            + ' to learn more about interactive tables.';\n",
              "          element.innerHTML = '';\n",
              "          dataTable['output_type'] = 'display_data';\n",
              "          await google.colab.output.renderOutput(dataTable, element);\n",
              "          const docLink = document.createElement('div');\n",
              "          docLink.innerHTML = docLinkHtml;\n",
              "          element.appendChild(docLink);\n",
              "        }\n",
              "      </script>\n",
              "    </div>\n",
              "  </div>\n",
              "  "
            ]
          },
          "metadata": {},
          "execution_count": 35
        }
      ]
    },
    {
      "cell_type": "markdown",
      "source": [
        "# **Prophet model**"
      ],
      "metadata": {
        "id": "kUqqdI3HgO0r"
      }
    },
    {
      "cell_type": "code",
      "source": [
        "gc.collect()"
      ],
      "metadata": {
        "execution": {
          "iopub.status.busy": "2022-06-29T14:42:29.479241Z",
          "iopub.execute_input": "2022-06-29T14:42:29.479703Z",
          "iopub.status.idle": "2022-06-29T14:42:30.168899Z",
          "shell.execute_reply.started": "2022-06-29T14:42:29.479664Z",
          "shell.execute_reply": "2022-06-29T14:42:30.168205Z"
        },
        "trusted": true,
        "id": "CxVE3QdygO0r",
        "outputId": "8dcd0672-194c-4c2f-b038-328a459836f1",
        "colab": {
          "base_uri": "https://localhost:8080/"
        }
      },
      "execution_count": 36,
      "outputs": [
        {
          "output_type": "execute_result",
          "data": {
            "text/plain": [
              "337"
            ]
          },
          "metadata": {},
          "execution_count": 36
        }
      ]
    },
    {
      "cell_type": "code",
      "source": [
        "model = Prophet()\n",
        "model.add_regressor('SecuritiesCode')\n",
        "model.add_regressor('Open')\n",
        "model.add_regressor('High')\n",
        "model.add_regressor('Low')\n",
        "model.add_regressor('Close')\n",
        "model.add_regressor('Volume')\n",
        "model.add_regressor('AdjustmentFactor')\n",
        "model.add_regressor('SupervisionFlag')\n",
        "model.fit(df_train)"
      ],
      "metadata": {
        "execution": {
          "iopub.status.busy": "2022-06-29T14:42:30.17052Z",
          "iopub.execute_input": "2022-06-29T14:42:30.170823Z"
        },
        "trusted": true,
        "id": "65iNN8wBgO0r",
        "outputId": "97b65d33-0f5c-4e48-a161-d183a330c41f",
        "colab": {
          "base_uri": "https://localhost:8080/"
        }
      },
      "execution_count": null,
      "outputs": [
        {
          "output_type": "stream",
          "name": "stderr",
          "text": [
            "INFO:fbprophet:Disabling daily seasonality. Run prophet with daily_seasonality=True to override this.\n"
          ]
        }
      ]
    },
    {
      "cell_type": "code",
      "source": [
        "gc.collect()"
      ],
      "metadata": {
        "trusted": true,
        "id": "xQg7CPTogO0r"
      },
      "execution_count": null,
      "outputs": []
    },
    {
      "cell_type": "code",
      "source": [
        "future_data = model.make_future_dataframe(periods=365)"
      ],
      "metadata": {
        "trusted": true,
        "id": "sSZJ21g-gO0s"
      },
      "execution_count": null,
      "outputs": []
    },
    {
      "cell_type": "code",
      "source": [
        "test_X = df_test.drop(['y'], axis=1)"
      ],
      "metadata": {
        "trusted": true,
        "id": "zKpCEu6LgO0s"
      },
      "execution_count": null,
      "outputs": []
    },
    {
      "cell_type": "code",
      "source": [
        "#forecast the data for Test  data\n",
        "forecast_data = model.predict(test_X)\n",
        "model.plot(forecast_data);"
      ],
      "metadata": {
        "trusted": true,
        "id": "DPb4CWWAgO0s"
      },
      "execution_count": null,
      "outputs": []
    },
    {
      "cell_type": "code",
      "source": [
        "#forecast = model.predict(future)"
      ],
      "metadata": {
        "trusted": true,
        "id": "Qr2ZXhFXgO0t"
      },
      "execution_count": null,
      "outputs": []
    },
    {
      "cell_type": "code",
      "source": [
        ""
      ],
      "metadata": {
        "trusted": true,
        "id": "wksRM4edgO0t"
      },
      "execution_count": null,
      "outputs": []
    },
    {
      "cell_type": "code",
      "source": [
        ""
      ],
      "metadata": {
        "id": "7bj4bARXgO0u"
      },
      "execution_count": null,
      "outputs": []
    },
    {
      "cell_type": "code",
      "source": [
        ""
      ],
      "metadata": {
        "id": "sQ_ZJ_9jgO0u"
      },
      "execution_count": null,
      "outputs": []
    },
    {
      "cell_type": "markdown",
      "source": [
        "# To do:\n",
        "    \n",
        "\n",
        "\n",
        "* perform normalisation\n",
        "\n",
        "* hyperparameter tuning\n",
        "\n",
        "\n",
        "\n",
        "\n"
      ],
      "metadata": {
        "id": "5Mv2vTo5gO0u"
      }
    },
    {
      "cell_type": "code",
      "source": [
        ""
      ],
      "metadata": {
        "id": "RNnhOKnwgO0v"
      },
      "execution_count": null,
      "outputs": []
    },
    {
      "cell_type": "code",
      "source": [
        "\n",
        "\n"
      ],
      "metadata": {
        "id": "Umgh4hsxgO0v"
      },
      "execution_count": null,
      "outputs": []
    }
  ]
}